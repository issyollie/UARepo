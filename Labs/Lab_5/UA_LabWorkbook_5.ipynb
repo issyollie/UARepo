{
 "cells": [
  {
   "cell_type": "markdown",
   "id": "e2188595-21e5-4a10-9c6b-a340e94759be",
   "metadata": {},
   "source": [
    "# GG4257 - Urban Analytics: A Toolkit for Sustainable Urban Development\n",
    "## Lab Workbook No 5: Intro to Networks\n",
    "---\n",
    "Dr Fernando Benitez -  University of St Andrews - School of Geography and Sustainable Development - Iteration 2024"
   ]
  },
  {
   "cell_type": "markdown",
   "id": "9b63e526-3dce-4bcc-8e6e-58a3461d260c",
   "metadata": {},
   "source": [
    "> **GOOD ACADEMIC PRACTICE**: As always, The University policy on Good Academic Practice applies. There are probably many ways to address the challenges in here or part of them. You are free to do research and find relevant resources, like the documentation website, if you cited them correctly. But I strongly advise not to use AI tools, most importantly because you won't learn/practice as you are supposed to.\n",
    ">\n",
    ">  If you are not aware of **our academic misconduct policy**, kindly take a quick look (Pag 8. https://www.st-ndrews.ac.uk/policy/academic-policies-assessment-examination-and-award-good-academic-practice/good-academic-practice-guidance-for-students-frequently-asked-questions.pdf)\n"
   ]
  },
  {
   "cell_type": "markdown",
   "id": "442fd35f-d863-4fba-b579-0fd5d2e45fe6",
   "metadata": {},
   "source": [
    "# Notes from Lecture\n",
    "Geodemographics: long history of use within cities. \n",
    "Variables and contexts: contests are the social, environmental, and economic settings within whih we live our lives. \n",
    "* places shape access to opportunity (neighborhood effects)\n",
    "* related to geography, sociology, etc - see the population space and place journal\n",
    "\n",
    "Varibales mode of inquiry: assessomg o,pact of abstract concepts on outcomes \n",
    "Contexutual analysiss: interconnected relationships\n",
    "\n",
    "Geodemographics: summarise multiple characteristics of a set of small geographic areas (a cartography and a science), requires a degree of subjectivity \n",
    "\n",
    "Tapestry segementation by esri - US \n",
    "\n",
    "CDRC in the UK, or Esri demograohics regional data for UK \n",
    "* see arcgis online\n",
    "\n",
    "Networkjs: not methods, mostly a ,mix of spatial joins and estimates \n",
    "Commonalities in decisions: \n",
    "* gathering a series of variables that are important to the differentiations of areas\n",
    "* areas similarity is assessed through a clustering processes\n",
    "* clusters are then examined by appending the input and exploring which attributes are over or under represented, relative to a bse such as the national average\n",
    "\n",
    "See urban grammar - satellite imagry to classify land (first remote sensing, then clustered) \n",
    "* However, need to justify the inputs when creating the indicies\n",
    "* for the index of mulitple deprivation, methods ibnclude shrinkage tehcnique \n",
    "\n",
    "Building an index: z-score is a standardisation technique (how many standard deviations a value is away from a mean distribution) \n",
    "\n",
    "Spatiali microsimulation is: \n",
    "Static spoatial microsimulation - snapshot - synthesises individual level populations from aggregate info - see tomintz and clarke 2008 - matches at the aggregate level but not necessarily at the individual level \n",
    "* deterministic reweighting through IPF (large iterativ e proportional fitting\n",
    "* conditional probabilities\n",
    "* simulated annealing\n",
    "Trying to turn a selection of aggregate constaint tables into an individual level pop allocated\n",
    "fit statistic used is normally total absolute error \n",
    "Dynamic spatial microsimulation - over space and time "
   ]
  },
  {
   "cell_type": "markdown",
   "id": "4eca404a-91a7-4cf2-8c18-618a349468a1",
   "metadata": {},
   "source": [
    "# Introduction to Networks\n",
    "\n",
    "In this lab, you'll be introduced to fundamental concepts in network analytics while exploring a real-world network dataset. You'll also learn about [NetworkX][1], a library that allows you to manipulate, analyze, and model graph data ( the mathematical form of a network). You'll learn about the different types of graphs and how to visualize them rationally.\n",
    "\n",
    "\n",
    "- Networks are a useful tool for modelling relationships between entities. Check the slides from Lecture 5 to see the main difference.\n",
    "- By modelling the data as a network, you can gain insight into what entities (or nodes) are important.\n",
    "- You can start to think about optimizing transportation between cities.\n",
    "- Leverage the network structure to find communities in the network.\n",
    "\n",
    "  [1]: https://networkx.github.io/documentation/stable/index.html"
   ]
  },
  {
   "attachments": {},
   "cell_type": "markdown",
   "id": "f5b6b749-53a4-4db6-9d63-c7f18652792d",
   "metadata": {},
   "source": [
    "## Examples of Networks\n",
    "1. Social:In a social network, we're modelling the relationship between people.\n",
    "\n",
    "2. Mobility: In a transportation network, we're modelling the connectivity between locations as determined by the roads or flight paths connecting them.\n",
    "\n",
    "\n",
    "## Network Structure\n",
    "\n",
    "![image.png](https://github.com/trenton3983/DataCamp/blob/master/Images/2020-05-21_intro_to_network_analysis_in_python/network_structure_1.JPG?raw=true)\n",
    "\n",
    "* Networks are described by two items, which form a \"network\":\n",
    " - Nodes\n",
    " - Edges\n",
    "   \n",
    "* In mathematical terms, this is a graph.\n",
    "* Nodes and edges can have metadata associated with them.\n",
    " - Let's say two friends, Hugo and myself, met on May 21, 2016. The nodes may be \"Hugo\" and myself, with metadata stored in a `key-value` pair as `id` and `age`. The friendship is represented as a line between two nodes and may have metadata such as `date`, which represents the date we first met.\n",
    " \n",
    "![social graph](https://github.com/trenton3983/DataCamp/blob/master/Images/2020-05-21_intro_to_network_analysis_in_python/network_structure_2.JPG?raw=true)\n"
   ]
  },
  {
   "cell_type": "markdown",
   "id": "dd58d1cd-41e0-454b-b7ec-60192977a5e6",
   "metadata": {},
   "source": [
    "# NetworkX\n",
    "\n",
    ">It is important you see how the data is being manipulated and you understand how the main methods in the library works, do not be afraid to change the code I provide in order to see what else you can or cant do. Make a copy of the original cell, then experiment.\n",
    "\n",
    "This Python library is used to manipulate, analyze, and model graph data. Using `nx.Graph()`, we initialize an empty graph to which we can add nodes and edges.\n",
    "\n",
    "Let's try adding nodes and edges, creating a graph from scratch:\n",
    "\n",
    "- The integers 1, 2, and 3 can be entered as nodes using the `add_nodes_from` method, passing in the list `[1, 2, 3]` as an argument.\n",
    "- Use the `.nodes` method to see the nodes present in the graph.\n",
    "- Likewise, we can use `.add_edges` and `.edges` to add and see the edges present in the graph.\n",
    "- Edges between nodes are represented as a **tuple**, in which each tuple shows the nodes that are present on that edge."
   ]
  },
  {
   "cell_type": "code",
   "execution_count": null,
   "id": "1a336b27-5abf-4103-b71e-589e9969810f",
   "metadata": {},
   "outputs": [],
   "source": [
    "import warnings\n",
    "warnings.simplefilter('ignore', DeprecationWarning)\n",
    "warnings.filterwarnings('ignore')"
   ]
  },
  {
   "cell_type": "code",
   "execution_count": null,
   "id": "0f4936dc-0979-4a5f-ac35-8d5a39d199fd",
   "metadata": {},
   "outputs": [],
   "source": [
    "#Uncomment the following line to install Networkx, in case you don't have it.\n",
    "#pip install networkx"
   ]
  },
  {
   "cell_type": "code",
   "execution_count": null,
   "id": "5fd8bf5c-bf44-4dd1-8cd0-4bd1c058d8d0",
   "metadata": {},
   "outputs": [],
   "source": [
    "import networkx as nx\n",
    "\n",
    "G = nx.Graph() #There are many other types of graphs; see Lecture 5 for more details.\n",
    "G.add_nodes_from([1, 2, 3])\n",
    "G.nodes()"
   ]
  },
  {
   "cell_type": "code",
   "execution_count": null,
   "id": "1bc1cf88-3844-400b-b18c-9a5f0fb2fcfd",
   "metadata": {},
   "outputs": [],
   "source": [
    "G.add_edge(1, 2)\n",
    "G.edges()"
   ]
  },
  {
   "cell_type": "markdown",
   "id": "e3249a80-19ce-4587-8597-16648ef061d4",
   "metadata": {},
   "source": [
    "- Metadata (Information related to the network) can be stored on the graph as well.\n",
    "- For example, I can add to the node `1`, a `label` key with the value `blue`, just as I would assign a value to the key of a python dictionary.\n",
    "- The node list can be retrieved with `G.nodes()` and passing the `data=True` parameter.\n",
    "- This returns a list of tuples (pairs), in which the first element of each tuple is the node, and the second element is a dictionary, in which the `key-value` pairs correspond to the metadata."
   ]
  },
  {
   "cell_type": "code",
   "execution_count": null,
   "id": "1f97e074-524d-4c1c-8057-0c998c876223",
   "metadata": {},
   "outputs": [],
   "source": [
    "G.nodes[1]['label'] = 'blue'\n",
    "\n",
    "G.nodes(data=True) #Try to add more metadata to the other nodes..."
   ]
  },
  {
   "cell_type": "markdown",
   "id": "9d46125a-0741-43b2-8894-fe0d8fe7bc5a",
   "metadata": {},
   "source": [
    "We are used to seeing a Network by its common representation of nodes and edges, but by creating a graph from scratch, it is complicated to see how the network is and what they are connecting. Therefore, methods to draw graphs are always welcome. This can be very simple or very structured, depending on the type of draw we need, but we can start with the following:\n",
    "\n",
    "- `networkx` provides basic drawing functionality, using the `nx.draw()` function, which uses a graph `G` as an argument.\n",
    "\n",
    "- You'll also have to call `plt.show()` function to display the graph.\n",
    "\n",
    "- With this graph, the `nx.draw()` function will draw to screen what we call a **node-link diagram** rendering of the graph."
   ]
  },
  {
   "cell_type": "code",
   "execution_count": null,
   "id": "7d3f818a-32b7-42b1-8fa5-089c6707bc7a",
   "metadata": {},
   "outputs": [],
   "source": [
    "import matplotlib.pyplot as plt\n",
    "\n",
    "nx.draw(G, with_labels=True )\n",
    "plt.show()"
   ]
  },
  {
   "cell_type": "markdown",
   "id": "f97bd03c-931f-4c04-a2a8-1ba2f93ef206",
   "metadata": {},
   "source": [
    "## Use case: Twitter network\n",
    "\n",
    "We will review some basic functions that let you query a Twitter network `T`. The Twitter data shows a snapshot of a subset of Twitter users. The network dataset is anonymized but includes some metadata.\n",
    "\n",
    "The data was extracted from:\n",
    "\n",
    "* twitter = https://assets.datacamp.com/production/repositories/580/datasets/64cf6963a7e8005e3771ef3b256812a5797320f0/ego-twitter.p"
   ]
  },
  {
   "cell_type": "markdown",
   "id": "23faf5a4-7915-485a-94c5-3affa27b83d6",
   "metadata": {},
   "source": [
    "The data format used to store a network in Python is a binary file called a pickle file. This file stores a Python object. More info at https://docs.python.org/3/library/pickle.html"
   ]
  },
  {
   "cell_type": "code",
   "execution_count": null,
   "id": "db404607-188d-4890-b6c4-10861e59378c",
   "metadata": {},
   "outputs": [],
   "source": [
    "import pickle\n",
    "\n",
    "with open('data/network_analysis/ego-twitter.p', 'rb') as f:\n",
    "    T = pickle.load(f)\n",
    "T"
   ]
  },
  {
   "cell_type": "markdown",
   "id": "1166d98c-fdc3-4454-a6b8-cfa87a38da0c",
   "metadata": {},
   "source": [
    "Now, let's learn some very basic functions to explore the graph. "
   ]
  },
  {
   "cell_type": "code",
   "execution_count": null,
   "id": "5380b2a1-8cc4-4bc3-a7ca-352919d1dd4d",
   "metadata": {},
   "outputs": [],
   "source": [
    "print(len(T))# Tells you the size of the graph `T`, \n",
    "print(type(T.nodes())) # Tells you the type of `T.nodes()`\n",
    "print(list(T.edges(data=True))[-1]) # Read the attributes associated with the last element of the edges list. \n",
    "print(list(T.nodes(data=True))[0]) # Read the attributes associated with the firts element of the node list.\n",
    "print(type(list(T.edges(data=True))[-1][2])) # Wich type; therefore, you can see what you are reading."
   ]
  },
  {
   "cell_type": "markdown",
   "id": "24e49665-e85c-4ae9-9597-55b961fa809d",
   "metadata": {},
   "source": [
    "The attributes associated with the `nodes` and the `edges` are `**category**`, `**ocupation**` for `nodes` and `**date**` for `edges`"
   ]
  },
  {
   "cell_type": "markdown",
   "id": "035eee67-bbcb-41b4-b9b4-fba7b58606ce",
   "metadata": {},
   "source": [
    "## Queries on a network\n",
    "\n",
    "After learning about some fundamental properties of the graph and practising its visualization using NetworkX's drawing tools, it's time to learn how to query nodes and edges. This involves searching for \"nodes of interest\" and \"edges of interest\".\n",
    "\n",
    "You'll use the `.nodes()` and `.edges()` methods. The `.nodes()` method returns a list of nodes, while the `.edges()` method returns a list of tuples, in which each tuple shows the nodes that are present on that edge. \n",
    "\n",
    "There is a keyword argument `data=True` in these methods that also retrieves the corresponding metadata associated with the nodes and edges. \n",
    "\n",
    "You can examine other graph's properties like `T.adj` and `T.degree`. These are set-like views of the neighbours (adjacencies), and degrees of nodes in a graph.[1]\n",
    "\n",
    "[1]: https://networkx.org/documentation/stable/tutorial.html#examining-elements-of-a-graph"
   ]
  },
  {
   "cell_type": "code",
   "execution_count": null,
   "id": "49eb5a0f-66e3-4228-90d3-a62cf0af60e0",
   "metadata": {
    "scrolled": true
   },
   "outputs": [],
   "source": [
    "#list(T.degree)\n",
    "#list(T.adj)\n",
    "list(T.edges)\n",
    "#list(T.nodes) # Be aware you will get a massive list; recall the size of the network \"23369\"\n",
    "# So we need a subset of that to make the exploration easier."
   ]
  },
  {
   "cell_type": "markdown",
   "id": "43bddfc0-ac7b-4b26-a2ea-afe2a884b5f7",
   "metadata": {},
   "source": [
    "As the network is massive, we can make a subset by specifying only the node we want. This makes a use of something call `nbunch` to filter only nodes within the defined network\n",
    "\n",
    "https://networkx.org/documentation/stable/reference/glossary.html#term-nbunch"
   ]
  },
  {
   "cell_type": "code",
   "execution_count": null,
   "id": "f673c88c-f123-42ef-b631-89cf419afdd7",
   "metadata": {
    "scrolled": true
   },
   "outputs": [],
   "source": [
    "edges_from_T=T.edges([36,1,75])\n",
    "#edges_from_T=T.edges([36,1,75], data=True) #Give the edges where only 36, 1 and 75 are nodes.\n",
    "edges_from_T"
   ]
  },
  {
   "cell_type": "markdown",
   "id": "9804bb9c-44b0-4469-8d02-5564e4bf0c3f",
   "metadata": {},
   "source": [
    "We later create an empty graph."
   ]
  },
  {
   "cell_type": "code",
   "execution_count": null,
   "id": "891e6e77-4179-4bea-86c4-38ce889bfd59",
   "metadata": {},
   "outputs": [],
   "source": [
    "T_sub = nx.DiGraph()\n",
    "len(T_sub)"
   ]
  },
  {
   "cell_type": "code",
   "execution_count": null,
   "id": "e10c62ae-27bc-4977-a93e-9d83d12ee06f",
   "metadata": {},
   "outputs": [],
   "source": [
    "T_sub.add_edges_from(edges_from_T) #Adding the list from the subset of nodes.\n",
    "len(T_sub)"
   ]
  },
  {
   "cell_type": "code",
   "execution_count": null,
   "id": "a106646b-e04b-41e4-95eb-62b665679a98",
   "metadata": {},
   "outputs": [],
   "source": [
    "plt.figure(figsize=(8, 8))\n",
    "nx.draw(T_sub, with_labels=True)\n",
    "plt.show()"
   ]
  },
  {
   "cell_type": "markdown",
   "id": "b4cda3b6-b3ef-457b-b5c0-211dbb3cbcf0",
   "metadata": {},
   "source": [
    "## List comprehensions\n",
    "\n",
    "So far, you have been working using traditional loops that iterate over iterable objects like lists, arrays or data frames. However, that often isn't the most effective way to iterate over an object with multiple items. We can use `list comprehensions` to iterate over Python objects effectively and build queries in one line, rather than a loop that usually involves `.append` methods.  For a detailed  description of list comprehensions, refer to [2] of DataCamp's Python Data Science Toolbox course. \n",
    "\n",
    "If you want to create a list comprehension, here is a recipe for it:\n",
    "\n",
    "> `[` *output expression* `for` *iterator variable* `in` *iterable* `if` *predicate expression* `]`.\n",
    "\n",
    "For example, if your task is to get a **list of nodes** from the graph `T` with the `'occupation'` label of `'scientist'`. You need to loop over the list of nodes (`T.nodes(data=True)`, including the metadata), and then get each value in the list, but only under the conditions that the `occupation` attribute is equal to `scientist`\n",
    "\n",
    "So traditionally, you will be asked to make an empty list, then a For loop, and then use the append to get all the values in the empty list appended.\n",
    "\n",
    "```python\n",
    "noi = []\n",
    "for n, a in T.nodes(data=True): # where a is the attribute we need to filter, and n the nodes.\n",
    "    if a['occupation'] == 'scientist':\n",
    "        noi.append(n)\n",
    "    \n",
    "````\n",
    "Instead of using four lines of code, we can use list comprehensions in the following way: \n",
    "\n",
    "```python\n",
    "# Use a list comprehension to get the nodes of interest: noi\n",
    "noi = [n for n, a in T.nodes(data=True) if a['occupation'] == 'scientist']\n",
    "```\n",
    "Now, it's the same process for the **edges of interest -eoi**; in this case, you are iterating over a tuple, so you need one extra argument. Traditionally, you will have to:\n",
    "\n",
    "```python\n",
    "eoi = []\n",
    "for u, v, d in T.edges(data=True): #where u, v are the nodes conforming the edge. and d the attribute associated with date\n",
    "    if d['date'].year < 2010:\n",
    "        eoi.append((u, v))\n",
    "````\n",
    "But a more effective code would be:\n",
    "\n",
    "```python\n",
    "# Use a list comprehension to get the edges of interest: eoi\n",
    "eoi = [(u, v) for u, v, d in T.edges(data=True) if d['date'].year < 2010]\n",
    "```\n",
    "\n",
    "[2]: https://www.datacamp.com/courses/python-data-science-toolbox-part-2\n"
   ]
  },
  {
   "cell_type": "code",
   "execution_count": null,
   "id": "20584700-68d5-4dad-ae0c-e37b4917896b",
   "metadata": {
    "scrolled": true
   },
   "outputs": [],
   "source": [
    "noi = [n for n, a in T.nodes(data=True) if a['occupation'] == 'scientist']\n",
    "eoi = [(u, v) for u, v, d in T.edges(data=True) if d['date'].year < 2010]"
   ]
  },
  {
   "cell_type": "code",
   "execution_count": null,
   "id": "07eef955-f3a2-4c48-9401-00d671a406dd",
   "metadata": {},
   "outputs": [],
   "source": [
    "print(noi[:10])\n",
    "print(eoi[:10])"
   ]
  },
  {
   "cell_type": "markdown",
   "id": "c248ec5e-ac14-4ceb-9a94-9a213bfd6f85",
   "metadata": {},
   "source": [
    "# Types of Graphs/Networks\n",
    "\n",
    "See the Lecture No 5 for more detailed information.\n",
    "\n",
    "1. **Undirected graphs**\n",
    " - e.g. Facebook, when one user befriends another, the two are automatically connected with an edge.\n",
    " - They are comprised of edges that don't have any inherent directionality associated with them.\n",
    " - This is commonly drawn as a line with no arrows between two circles.\n",
    " - Undirected graphs have the type `Graph`\n",
    " \n",
    "```python\n",
    "import networkx as nx\n",
    "\n",
    "G = nx.Graph()\n",
    "type(G)\n",
    ">>> networkx.classes.graph.Graph\n",
    "``` \n",
    "\n",
    "\n",
    "2. **Directed graphs**\n",
    " - e.g. Twitter, one user may follow another, but that other user may not follow back.\n",
    " - This is because of the nature of how users interact with one another.\n",
    " - As such, there's an inherent directionality associated with the graph\n",
    " - Directed grasphs have the type `DiGraph`\n",
    " \n",
    "```python\n",
    "D = nx.DiGraph()\n",
    "type(D)\n",
    ">>> networkx.classes.digraph.DiGraph\n",
    "```\n",
    "\n",
    "3. **Muti-edge (Directed) graphs**\n",
    "   \n",
    " - Graph in which there are multiple edges permitted between the nodes\n",
    " - For example, we may want to model trips between bike-sharing stations\n",
    " - Each trip may be one edge between the pair of stations\n",
    " - Sometimes, for practical reasons, it may be too memory-intensive to model multiple edges per pair of nodes. So, one may choose to collapse the edges into a single edge that contains a metadata summary of the original.\n",
    " - For example, we may want to collapse these three edges into a single one and give them a _weight_ metadata with the value _3_, indicating that it was originally three edges between the pair of nodes.\n",
    "\n",
    "![multi-edge][1]\n",
    "\n",
    "```python\n",
    "M = nx.MultiGraph\n",
    "type(M)\n",
    ">>> networkx.classes.multigraph.MultiGraph\n",
    "\n",
    "MD = nx.MultiDiGraph\n",
    "type(MD)\n",
    ">>> networkx.classes.multidigraph.MultiDiGraph\n",
    "```\n",
    "\n",
    "4. **Self-loops**: Self-loops can be used in certain scenarios, such as in bike sharing data, where a trip begins at a station and ends at the same station.\n",
    "\n",
    "\n",
    "[1]: https://raw.githubusercontent.com/trenton3983/DataCamp/master/Images/2020-05-21_intro_to_network_analysis_in_python/multi-edge.JPG"
   ]
  },
  {
   "cell_type": "markdown",
   "id": "862a7401-73f0-43a8-a786-965f6621939d",
   "metadata": {},
   "source": [
    "## Self-loops\n",
    "\n",
    "NetworkX also allows edges that begin and end on the same node; while this would be non-intuitive for a social network graph, it is useful to model data such as trip networks, where individuals begin at one location and end in another.\n",
    "\n",
    "It is useful to check for this before proceeding with further analyses, and NetworkX graphs provide a method for this purpose: `.number_of_selfloops()`\n",
    "\n",
    "Here we use the `.number_of_selfloops()` method on `T` to get the number of edges that begin and end on the same node. "
   ]
  },
  {
   "cell_type": "code",
   "execution_count": null,
   "id": "8bdae4b3-6c6e-4735-b7e0-4d6d0f9ab79e",
   "metadata": {},
   "outputs": [],
   "source": [
    "nx.number_of_selfloops(T)"
   ]
  },
  {
   "cell_type": "markdown",
   "id": "b238bef4-424d-4f3f-b6b4-d1ba11fc7c04",
   "metadata": {},
   "source": [
    "## Specifying a weight on edges\n",
    "\n",
    "Weights can be added to edges in a graph, typically indicating the _strength_ of an edge. In NetworkX, the weight is indicated by the `'weight'` key in the metadata dictionary.\n",
    "\n",
    "Refer to the following template to set an attribute of an edge: `network_name.edges[node1, node2]['attribute'] = value`. Here, the `'attribute'` is `'weight'`.\n",
    "\n",
    "- If we want to set the `'weight'` attribute of the edge between node `1` and `10` of `T` to be equal to `2`.\n",
    "  We could just `T.edges[1, 10]['weight'] = 2`\n",
    "- If we want to set the weight of every edge involving node `293` to be equal to `1.1`.\n",
    "  We can use a `for` loop and iterate over all the edges of `T`, including the `metadata`. If `293` is involved in the list of nodes `[u, v]`, we set the weight of the edge between `u` and `v` to be `1.1`."
   ]
  },
  {
   "cell_type": "code",
   "execution_count": null,
   "id": "397f443d-59ba-4291-a597-958b8637b1ba",
   "metadata": {},
   "outputs": [],
   "source": [
    "T.edges[1, 10] #See that you only have one category."
   ]
  },
  {
   "cell_type": "code",
   "execution_count": null,
   "id": "4ea2691d-f8c4-4cad-be94-6b4381a9eaf7",
   "metadata": {
    "scrolled": true
   },
   "outputs": [],
   "source": [
    "# Set the weight of the edge\n",
    "T.edges[1, 10]['weight'] = 2\n",
    "T.edges[1, 10] # Now you have two categories"
   ]
  },
  {
   "cell_type": "code",
   "execution_count": null,
   "id": "25261d7f-eb68-42e2-bf89-90a91ae39355",
   "metadata": {},
   "outputs": [],
   "source": [
    "for u, v, d in T.edges(data=True):\n",
    "\n",
    "    # Check if node 293 is involved\n",
    "    if 293 in [u, v]:\n",
    "\n",
    "        # Set the weight to 1.1\n",
    "        T.edges[u, v]['weight'] = 1.1"
   ]
  },
  {
   "cell_type": "code",
   "execution_count": null,
   "id": "3cae54ce-006c-4e20-a944-38af214809a5",
   "metadata": {
    "scrolled": true
   },
   "outputs": [],
   "source": [
    "#pip install nxviz\n",
    "#Uncomment the previous line in case you don't have nxviz"
   ]
  },
  {
   "cell_type": "markdown",
   "id": "99f83f90-4582-4ed4-83ea-8cd1c059e216",
   "metadata": {},
   "source": [
    "## Plotting networks\n",
    "\n",
    "1. **Matrix plots**: Nodes are the rows and columns of a matrix, and cells are filled in according to whether an edge exists between the pairs of nodes.\n",
    "\n",
    "   ![image](https://raw.githubusercontent.com/trenton3983/DataCamp/master/Images/2020-05-21_intro_to_network_analysis_in_python/matrix_plots.JPG)\n",
    "\n",
    "In an undirected graph, the matrix is symmetrical around the diagonal, which is highlighted in grey.\n",
    "* Figure 3: edge (A, B) is equivalent to edge (B, A).  Highlighted in yellow.\n",
    "* Figure 4: edge (A, C) is equivalent to edge (C, A), because there's no directionality associated with that edge.\n",
    "  \n",
    "- With directed graphs, the matrix representation is not necessarily going to be symmetrical.\n",
    "  * Figure 5: there's a bidirectional edge between A and C, but only an edge from A to B and not B to A.\n",
    "  * (A, B) will be filled in, but not (B, A)\n",
    "\n",
    "- If the nodes are ordered along the rows and columns, such that neighbours are listed close to one another, then a matrix plot can be used to visualise clusters, or communities, of nodes.\n",
    "\n",
    "2. **Arc plots**\n",
    " - ![arc_plots][2]\n",
    " -  Is it a transformation of the node-link diagram layout, in which nodes are ordered along one axis of the plot, and edges are drawn using circular arcs from one node to another\n",
    " - If the nodes are ordered according to some sortable rule, such as age in a social network of users, or otherwise grouped together by geographic location in a map for a transportation network, then it will be possible to visualise the relationship between connectivity and the sorted (or grouped) property.\n",
    "  - Arc plots are a good starting point for visualizing a network, as they form the basis of the later plots that we'll take a look at.\n",
    "   \n",
    "3. **Circos plots**\n",
    " - ![circo_plot][3]\n",
    " - It is a transformation of the Arc Plot, such that two ends of the Arc Plot are joined together into a circle.\n",
    " - Were originally designed for use in genomics, and you can think of them as an aesthetic and compact alternative to Arc Plots.\n",
    "- You will be using [nxviz][4] to plot the graphs.\n",
    "\n",
    "  [2]: https://raw.githubusercontent.com/trenton3983/DataCamp/master/Images/2020-05-21_intro_to_network_analysis_in_python/arc_plots.JPG\n",
    "  [3]: https://raw.githubusercontent.com/trenton3983/DataCamp/master/Images/2020-05-21_intro_to_network_analysis_in_python/circo_plots.JPG\n",
    "  [4]: https://github.com/ericmjl/nxviz\n",
    "\n",
    "Now lets see how we can plot these types of graphs using an additional library, `nxviz`, which is a package for visualizing graphs in a rational fashion; under the hood, the `MatrixPlo`t utilizes `nx.to_numpy_matrix(G)`, which returns the matrix form of the graph. \n",
    "\n",
    "See more in: https://nxviz.readthedocs.io/en/latest/usage.html"
   ]
  },
  {
   "cell_type": "code",
   "execution_count": null,
   "id": "2940214c-5e95-4045-8d09-cb81214c2356",
   "metadata": {},
   "outputs": [],
   "source": [
    "#Basic plot of a graph\n",
    "\n",
    "import networkx as nx\n",
    "import matplotlib.pyplot as plt\n",
    "\n",
    "er = nx.erdos_renyi_graph(30, 0.3)\n",
    "nx.draw(er)\n",
    "plt.show()"
   ]
  },
  {
   "cell_type": "code",
   "execution_count": null,
   "id": "8f960fde-8e9a-4020-b6c1-7377b1564971",
   "metadata": {},
   "outputs": [],
   "source": [
    "# Now, let's create a synthetic network to make several plots.\n",
    "import nxviz as nv\n",
    "from datetime import datetime, date\n",
    "\n",
    "data = [(13829, 1386, {'date': date(2012, 3, 13)}), (3086, 669, {'date': date(2009, 3, 1)}), (3086, 3100, {'date': date(2013, 8, 10)}), (3086, 3117, {'date': date(2007, 12, 20)}), (4111, 4133, {'date': date(2007, 10, 28)}), (4111, 12582, {'date': date(2013, 6, 1)}), (6163, 7331, {'date': date(2013, 2, 3)}), (6163, 7336, {'date': date(2007, 9, 12)}), (6163, 6168, {'date': date(2008, 4, 2)}), (6163, 1326, {'date': date(2009, 2, 16)}), (4636, 4666, {'date': date(2012, 3, 20)}), (543, 12123, {'date': date(2014, 8, 12)}), (36, 24, {'date': date(2009, 4, 23)}), (12836, 12856, {'date': date(2014, 2, 21)}), (10790, 10854, {'date': date(2009, 8, 11)}), (9262, 9338, {'date': date(2007, 11, 11)}), (4160, 4161, {'date': date(2012, 4, 14)}), (4160, 3681, {'date': date(2013, 8, 10)}), (7746, 3396, {'date': date(2007, 2, 23)}), (7746, 543, {'date': date(2011, 7, 14)}), (7746, 5073, {'date': date(2012, 2, 25)}), (7746, 1130, {'date': date(2013, 8, 4)}), (7746, 3265, {'date': date(2008, 11, 8)}), (19013, 21248, {'date': date(2009, 3, 21)}), (19013, 21253, {'date': date(2007, 8, 17)}), (14916, 14930, {'date': date(2012, 4, 10)}), (5717, 5752, {'date': date(2009, 2, 2)}), (3159, 3176, {'date': date(2011, 8, 15)}), (3159, 3177, {'date': date(2008, 2, 1)}), (3159, 3193, {'date': date(2014, 1, 2)}), (1627, 1648, {'date': date(2011, 11, 7)}), (19550, 19570, {'date': date(2009, 11, 13)}), (5215, 5217, {'date': date(2011, 1, 7)}), (4198, 16203, {'date': date(2014, 12, 1)}), (3177, 3159, {'date': date(2010, 6, 2)}), (3177, 3176, {'date': date(2014, 11, 10)}), (1134, 2406, {'date': date(2011, 7, 10)}), (1134, 543, {'date': date(2011, 10, 20)}), (4206, 21962, {'date': date(2014, 4, 17)}), (6770, 2671, {'date': date(2010, 5, 18)}), (11384, 4955, {'date': date(2007, 2, 12)}), (11384, 2406, {'date': date(2007, 10, 13)}), (11384, 11402, {'date': date(2009, 11, 27)}), (10877, 10917, {'date': date(2014, 7, 17)}), (10877, 7886, {'date': date(2009, 1, 4)}), (10877, 36, {'date': date(2008, 10, 25)}), (10877, 10936, {'date': date(2008, 12, 26)}), (10877, 1326, {'date': date(2012, 1, 19)}), (10373, 1386, {'date': date(2011, 4, 21)}), (10373, 2501, {'date': date(2012, 8, 13)}), (3213, 3214, {'date': date(2008, 4, 19)}), (3213, 3265, {'date': date(2007, 8, 8)}), (3213, 3266, {'date': date(2009, 1, 4)}), (5626, 16654, {'date': date(2011, 3, 5)}), (20122, 20177, {'date': date(2014, 12, 21)}), (667, 669, {'date': date(2014, 2, 3)}), (667, 747, {'date': date(2008, 2, 23)}), (161, 18159, {'date': date(2014, 9, 22)}), (7331, 6163, {'date': date(2012, 10, 15)}), (7331, 6168, {'date': date(2012, 3, 17)}), (7331, 7606, {'date': date(2008, 11, 7)}), (7331, 24, {'date': date(2009, 9, 21)}), (7331, 36, {'date': date(2010, 5, 26)}), (10917, 10877, {'date': date(2011, 9, 7)}), (10917, 24, {'date': date(2014, 10, 16)}), (10917, 7886, {'date': date(2011, 7, 13)}), (10917, 36, {'date': date(2013, 8, 8)}), (10917, 1326, {'date': date(2009, 5, 23)}), (22184, 22188, {'date': date(2012, 11, 3)}), (6318, 6301, {'date': date(2011, 4, 3)}), (8367, 8421, {'date': date(2012, 7, 10)}), (21167, 3931, {'date': date(2012, 7, 9)}), (3265, 4955, {'date': date(2012, 6, 6)}), (3265, 4811, {'date': date(2014, 9, 18)}), (3265, 3266, {'date': date(2008, 9, 24)}), (3266, 4811, {'date': date(2007, 2, 16)}), (3266, 1926, {'date': date(2008, 3, 16)}), (3266, 3265, {'date': date(2014, 5, 25)}), (4291, 4306, {'date': date(2014, 9, 9)}), (4291, 4310, {'date': date(2007, 9, 11)}), (4811, 4955, {'date': date(2007, 4, 19)}), (4811, 3265, {'date': date(2013, 8, 23)}), (4811, 3266, {'date': date(2008, 8, 25)}), (7886, 10877, {'date': date(2012, 9, 5)}), (7886, 10917, {'date': date(2008, 9, 19)}), (7886, 24, {'date': date(2014, 8, 17)}), (7886, 36, {'date': date(2012, 9, 21)}), (7886, 1326, {'date': date(2012, 3, 23)}), (6863, 14981, {'date': date(2012, 8, 7)}), (13012, 13017, {'date': date(2012, 3, 4)}), (16597, 24, {'date': date(2012, 5, 2)}), (16597, 36, {'date': date(2011, 4, 19)}), (16597, 16610, {'date': date(2011, 11, 11)}), (12507, 12523, {'date': date(2012, 3, 11)}), (16618, 16619, {'date': date(2013, 3, 3)}), (13036, 15161, {'date': date(2012, 4, 23)}), (3826, 669, {'date': date(2014, 11, 9)}), (3826, 3100, {'date': date(2009, 2, 24)}), (3826, 3860, {'date': date(2013, 7, 27)}), (3826, 3681, {'date': date(2013, 2, 14)}), (7410, 7437, {'date': date(2012, 5, 2)}), (15092, 2148, {'date': date(2014, 11, 11)}), (15092, 20816, {'date': date(2009, 4, 8)}), (2820, 2826, {'date': date(2011, 10, 1)}), (2820, 2871, {'date': date(2010, 3, 26)}), (2311, 2371, {'date': date(2008, 8, 26)}), (11020, 11042, {'date': date(2008, 5, 12)}), (13070, 13079, {'date': date(2009, 10, 15)}), (20755, 24, {'date': date(2010, 11, 26)}), (20755, 1326, {'date': date(2014, 5, 2)}), (20756, 669, {'date': date(2012, 9, 7)}), (20756, 3100, {'date': date(2013, 3, 17)}), (20756, 3681, {'date': date(2010, 12, 9)}), (14613, 14617, {'date': date(2009, 6, 2)}), (10004, 10030, {'date': date(2008, 3, 1)}), (10004, 10111, {'date': date(2011, 7, 15)}), (4892, 1130, {'date': date(2011, 12, 10)}), (4892, 4947, {'date': date(2012, 3, 6)}), (2871, 15372, {'date': date(2014, 4, 27)}), (6968, 669, {'date': date(2010, 2, 6)}), (6968, 1386, {'date': date(2012, 9, 20)}), (6968, 4133, {'date': date(2012, 9, 22)}), (3385, 3396, {'date': date(2008, 3, 4)}), (8001, 23190, {'date': date(2008, 6, 26)}), (19787, 13581, {'date': date(2012, 4, 3)}), (21325, 21371, {'date': date(2009, 8, 2)}), (16720, 16734, {'date': date(2007, 10, 26)}), (16720, 16739, {'date': date(2008, 10, 24)}), (12119, 24, {'date': date(2013, 6, 1)}), (12119, 36, {'date': date(2007, 5, 1)}), (22872, 22918, {'date': date(2014, 7, 15)}), (7519, 16041, {'date': date(2012, 7, 8)}), (12640, 18082, {'date': date(2007, 4, 20)}), (12640, 18086, {'date': date(2008, 7, 8)}), (5987, 4957, {'date': date(2010, 12, 4)}), (5987, 492, {'date': date(2009, 6, 25)}), (19316, 19344, {'date': date(2013, 3, 15)}), (19316, 2501, {'date': date(2011, 11, 15)}), (13690, 4955, {'date': date(2014, 4, 5)}), (12162, 15560, {'date': date(2011, 1, 4)}), (2443, 3564, {'date': date(2014, 1, 9)}), (401, 492, {'date': date(2010, 11, 25)}), (401, 502, {'date': date(2013, 6, 27)}), (9106, 9107, {'date': date(2012, 5, 4)}), (8598, 8616, {'date': date(2011, 2, 6)}), (21919, 4161, {'date': date(2007, 7, 18)}), (21919, 669, {'date': date(2011, 12, 12)}), (21919, 3100, {'date': date(2012, 10, 15)}), (21919, 3681, {'date': date(2011, 1, 14)}), (10143, 4306, {'date': date(2009, 5, 26)}), (4517, 6414, {'date': date(2008, 7, 15)}), (20906, 2406, {'date': date(2012, 9, 5)}), (20906, 492, {'date': date(2013, 8, 12)}), (6059, 20368, {'date': date(2008, 11, 20)}), (2501, 1386, {'date': date(2009, 5, 1)}), (2501, 10373, {'date': date(2012, 7, 15)}), (13257, 13286, {'date': date(2008, 11, 4)}), (1484, 1492, {'date': date(2008, 6, 5)}), (1484, 1499, {'date': date(2013, 8, 9)}), (1996, 6038, {'date': date(2012, 7, 28)}), (20947, 669, {'date': date(2011, 7, 19)}), (20947, 3100, {'date': date(2010, 11, 23)}), (20947, 3681, {'date': date(2008, 6, 20)}), (5590, 5601, {'date': date(2012, 8, 17)}), (5590, 5626, {'date': date(2013, 8, 18)}), (18917, 19012, {'date': date(2013, 12, 15)}), (18917, 19013, {'date': date(2014, 1, 17)}), (10730, 24, {'date': date(2010, 1, 21)}), (10730, 36, {'date': date(2014, 1, 11)}), (10730, 1326, {'date': date(2008, 11, 4)}), (23024, 669, {'date': date(2010, 6, 15)}), (23024, 3100, {'date': date(2012, 6, 1)}), (23024, 23091, {'date': date(2011, 5, 20)}), (5109, 5112, {'date': date(2007, 5, 10)}), (13306, 13334, {'date': date(2014, 5, 18)})]\n",
    "attr = {13829: {'category': 'D', 'occupation': 'celebrity'}, 15372: {'category': 'D', 'occupation': 'celebrity'}, 3086: {'category': 'P', 'occupation': 'scientist'}, 4111: {'category': 'D', 'occupation': 'scientist'}, 6163: {'category': 'P', 'occupation': 'scientist'}, 13334: {'category': 'P', 'occupation': 'scientist'}, 6168: {'category': 'P', 'occupation': 'celebrity'}, 24: {'category': 'P', 'occupation': 'politician'}, 3100: {'category': 'D', 'occupation': 'scientist'}, 4636: {'category': 'D', 'occupation': 'celebrity'}, 543: {'category': 'D', 'occupation': 'politician'}, 36: {'category': 'D', 'occupation': 'scientist'}, 12836: {'category': 'I', 'occupation': 'celebrity'}, 4133: {'category': 'D', 'occupation': 'scientist'}, 10790: {'category': 'D', 'occupation': 'scientist'}, 3117: {'category': 'P', 'occupation': 'politician'}, 9262: {'category': 'I', 'occupation': 'scientist'}, 23091: {'category': 'P', 'occupation': 'celebrity'}, 12856: {'category': 'D', 'occupation': 'politician'}, 4666: {'category': 'P', 'occupation': 'politician'}, 4160: {'category': 'P', 'occupation': 'politician'}, 4161: {'category': 'I', 'occupation': 'politician'}, 7746: {'category': 'P', 'occupation': 'scientist'}, 19012: {'category': 'D', 'occupation': 'politician'}, 19013: {'category': 'I', 'occupation': 'politician'}, 14916: {'category': 'I', 'occupation': 'politician'}, 14930: {'category': 'P', 'occupation': 'celebrity'}, 5717: {'category': 'P', 'occupation': 'politician'}, 3159: {'category': 'I', 'occupation': 'scientist'}, 1627: {'category': 'I', 'occupation': 'scientist'}, 19550: {'category': 'D', 'occupation': 'politician'}, 5215: {'category': 'P', 'occupation': 'politician'}, 5217: {'category': 'D', 'occupation': 'scientist'}, 3681: {'category': 'I', 'occupation': 'politician'}, 2148: {'category': 'D', 'occupation': 'politician'}, 4198: {'category': 'D', 'occupation': 'celebrity'}, 10854: {'category': 'D', 'occupation': 'politician'}, 3176: {'category': 'D', 'occupation': 'scientist'}, 3177: {'category': 'I', 'occupation': 'scientist'}, 1130: {'category': 'I', 'occupation': 'celebrity'}, 1134: {'category': 'P', 'occupation': 'scientist'}, 4206: {'category': 'I', 'occupation': 'scientist'}, 2671: {'category': 'P', 'occupation': 'scientist'}, 1648: {'category': 'P', 'occupation': 'politician'}, 19570: {'category': 'P', 'occupation': 'scientist'}, 6770: {'category': 'D', 'occupation': 'celebrity'}, 5752: {'category': 'D', 'occupation': 'scientist'}, 11384: {'category': 'D', 'occupation': 'politician'}, 3193: {'category': 'P', 'occupation': 'politician'}, 9338: {'category': 'I', 'occupation': 'politician'}, 10877: {'category': 'P', 'occupation': 'celebrity'}, 10373: {'category': 'I', 'occupation': 'politician'}, 14981: {'category': 'P', 'occupation': 'celebrity'}, 11402: {'category': 'I', 'occupation': 'politician'}, 3213: {'category': 'D', 'occupation': 'politician'}, 3214: {'category': 'P', 'occupation': 'celebrity'}, 5626: {'category': 'P', 'occupation': 'politician'}, 23190: {'category': 'P', 'occupation': 'celebrity'}, 20122: {'category': 'D', 'occupation': 'politician'}, 667: {'category': 'P', 'occupation': 'politician'}, 6301: {'category': 'I', 'occupation': 'scientist'}, 669: {'category': 'I', 'occupation': 'celebrity'}, 161: {'category': 'D', 'occupation': 'politician'}, 18082: {'category': 'I', 'occupation': 'celebrity'}, 7331: {'category': 'I', 'occupation': 'celebrity'}, 10917: {'category': 'P', 'occupation': 'scientist'}, 18086: {'category': 'D', 'occupation': 'scientist'}, 22184: {'category': 'P', 'occupation': 'scientist'}, 7336: {'category': 'D', 'occupation': 'scientist'}, 16041: {'category': 'P', 'occupation': 'scientist'}, 22188: {'category': 'I', 'occupation': 'scientist'}, 6318: {'category': 'P', 'occupation': 'politician'}, 8367: {'category': 'I', 'occupation': 'politician'}, 21167: {'category': 'D', 'occupation': 'celebrity'}, 10936: {'category': 'P', 'occupation': 'scientist'}, 3265: {'category': 'I', 'occupation': 'celebrity'}, 3266: {'category': 'P', 'occupation': 'politician'}, 4291: {'category': 'P', 'occupation': 'politician'}, 15560: {'category': 'P', 'occupation': 'celebrity'}, 4811: {'category': 'P', 'occupation': 'politician'}, 7886: {'category': 'P', 'occupation': 'politician'}, 6863: {'category': 'I', 'occupation': 'scientist'}, 20177: {'category': 'P', 'occupation': 'scientist'}, 4306: {'category': 'P', 'occupation': 'scientist'}, 13012: {'category': 'D', 'occupation': 'celebrity'}, 16597: {'category': 'P', 'occupation': 'celebrity'}, 4310: {'category': 'D', 'occupation': 'scientist'}, 13017: {'category': 'I', 'occupation': 'politician'}, 12507: {'category': 'I', 'occupation': 'politician'}, 16610: {'category': 'I', 'occupation': 'celebrity'}, 8421: {'category': 'I', 'occupation': 'politician'}, 16618: {'category': 'D', 'occupation': 'politician'}, 16619: {'category': 'I', 'occupation': 'celebrity'}, 13036: {'category': 'D', 'occupation': 'politician'}, 12523: {'category': 'P', 'occupation': 'politician'}, 747: {'category': 'D', 'occupation': 'politician'}, 18159: {'category': 'P', 'occupation': 'celebrity'}, 3826: {'category': 'P', 'occupation': 'politician'}, 7410: {'category': 'D', 'occupation': 'scientist'}, 15092: {'category': 'I', 'occupation': 'scientist'}, 21248: {'category': 'I', 'occupation': 'politician'}, 2820: {'category': 'I', 'occupation': 'celebrity'}, 21253: {'category': 'P', 'occupation': 'celebrity'}, 2311: {'category': 'I', 'occupation': 'politician'}, 2826: {'category': 'D', 'occupation': 'celebrity'}, 11020: {'category': 'D', 'occupation': 'politician'}, 7437: {'category': 'P', 'occupation': 'celebrity'}, 16654: {'category': 'I', 'occupation': 'scientist'}, 6414: {'category': 'D', 'occupation': 'scientist'}, 13070: {'category': 'I', 'occupation': 'politician'}, 13581: {'category': 'D', 'occupation': 'politician'}, 20755: {'category': 'D', 'occupation': 'celebrity'}, 20756: {'category': 'I', 'occupation': 'scientist'}, 14613: {'category': 'I', 'occupation': 'celebrity'}, 10004: {'category': 'I', 'occupation': 'politician'}, 3860: {'category': 'D', 'occupation': 'celebrity'}, 13079: {'category': 'D', 'occupation': 'celebrity'}, 14617: {'category': 'P', 'occupation': 'celebrity'}, 4892: {'category': 'P', 'occupation': 'celebrity'}, 11042: {'category': 'I', 'occupation': 'celebrity'}, 12582: {'category': 'P', 'occupation': 'politician'}, 1326: {'category': 'D', 'occupation': 'scientist'}, 10030: {'category': 'I', 'occupation': 'celebrity'}, 2871: {'category': 'P', 'occupation': 'scientist'}, 6968: {'category': 'P', 'occupation': 'celebrity'}, 3385: {'category': 'D', 'occupation': 'scientist'}, 15161: {'category': 'D', 'occupation': 'scientist'}, 8001: {'category': 'P', 'occupation': 'celebrity'}, 2371: {'category': 'D', 'occupation': 'scientist'}, 3396: {'category': 'P', 'occupation': 'scientist'}, 16203: {'category': 'D', 'occupation': 'politician'}, 19787: {'category': 'D', 'occupation': 'politician'}, 21325: {'category': 'P', 'occupation': 'scientist'}, 20816: {'category': 'I', 'occupation': 'scientist'}, 16720: {'category': 'I', 'occupation': 'scientist'}, 4947: {'category': 'I', 'occupation': 'celebrity'}, 12119: {'category': 'D', 'occupation': 'politician'}, 22872: {'category': 'I', 'occupation': 'politician'}, 12123: {'category': 'D', 'occupation': 'celebrity'}, 4955: {'category': 'P', 'occupation': 'celebrity'}, 4957: {'category': 'D', 'occupation': 'celebrity'}, 16734: {'category': 'D', 'occupation': 'politician'}, 7519: {'category': 'I', 'occupation': 'politician'}, 12640: {'category': 'P', 'occupation': 'celebrity'}, 3931: {'category': 'I', 'occupation': 'celebrity'}, 5987: {'category': 'D', 'occupation': 'scientist'}, 16739: {'category': 'I', 'occupation': 'celebrity'}, 2406: {'category': 'I', 'occupation': 'scientist'}, 1386: {'category': 'I', 'occupation': 'politician'}, 19316: {'category': 'I', 'occupation': 'politician'}, 13690: {'category': 'I', 'occupation': 'celebrity'}, 21371: {'category': 'P', 'occupation': 'scientist'}, 10111: {'category': 'I', 'occupation': 'celebrity'}, 12162: {'category': 'I', 'occupation': 'celebrity'}, 22918: {'category': 'I', 'occupation': 'celebrity'}, 1926: {'category': 'D', 'occupation': 'celebrity'}, 2443: {'category': 'I', 'occupation': 'scientist'}, 20368: {'category': 'I', 'occupation': 'politician'}, 19344: {'category': 'D', 'occupation': 'politician'}, 401: {'category': 'P', 'occupation': 'celebrity'}, 9106: {'category': 'P', 'occupation': 'scientist'}, 9107: {'category': 'D', 'occupation': 'celebrity'}, 6038: {'category': 'I', 'occupation': 'celebrity'}, 8598: {'category': 'P', 'occupation': 'politician'}, 21919: {'category': 'I', 'occupation': 'celebrity'}, 10143: {'category': 'P', 'occupation': 'celebrity'}, 4517: {'category': 'D', 'occupation': 'celebrity'}, 8616: {'category': 'D', 'occupation': 'celebrity'}, 20906: {'category': 'D', 'occupation': 'celebrity'}, 6059: {'category': 'D', 'occupation': 'scientist'}, 7606: {'category': 'P', 'occupation': 'scientist'}, 2501: {'category': 'P', 'occupation': 'scientist'}, 13257: {'category': 'D', 'occupation': 'celebrity'}, 21962: {'category': 'D', 'occupation': 'politician'}, 1484: {'category': 'I', 'occupation': 'politician'}, 1996: {'category': 'D', 'occupation': 'celebrity'}, 5073: {'category': 'P', 'occupation': 'celebrity'}, 20947: {'category': 'I', 'occupation': 'celebrity'}, 1492: {'category': 'D', 'occupation': 'celebrity'}, 5590: {'category': 'I', 'occupation': 'politician'}, 1499: {'category': 'P', 'occupation': 'celebrity'}, 5601: {'category': 'P', 'occupation': 'scientist'}, 18917: {'category': 'D', 'occupation': 'celebrity'}, 13286: {'category': 'I', 'occupation': 'scientist'}, 10730: {'category': 'D', 'occupation': 'celebrity'}, 492: {'category': 'I', 'occupation': 'politician'}, 3564: {'category': 'P', 'occupation': 'scientist'}, 23024: {'category': 'P', 'occupation': 'politician'}, 5109: {'category': 'I', 'occupation': 'politician'}, 502: {'category': 'P', 'occupation': 'scientist'}, 5112: {'category': 'I', 'occupation': 'celebrity'}, 13306: {'category': 'D', 'occupation': 'scientist'}}\n",
    "t_131 = nx.Graph()\n",
    "t_131.add_nodes_from(attr)\n",
    "t_131.add_edges_from(data)\n",
    "nx.set_node_attributes(t_131, attr)"
   ]
  },
  {
   "cell_type": "code",
   "execution_count": null,
   "id": "ae68f9c4-e735-44d3-b69d-38ad0a4fc7b3",
   "metadata": {},
   "outputs": [],
   "source": [
    "nv.MatrixPlot(t_131)\n",
    "plt.show()"
   ]
  },
  {
   "cell_type": "code",
   "execution_count": null,
   "id": "0efa0ae0-b625-4d94-b4f9-c18fc128b6d6",
   "metadata": {},
   "outputs": [],
   "source": [
    "nv.ArcPlot(t_131)\n",
    "plt.show()"
   ]
  },
  {
   "cell_type": "code",
   "execution_count": null,
   "id": "99c5925b-fd05-4de9-8677-e8a60800b3e9",
   "metadata": {},
   "outputs": [],
   "source": [
    "nv.CircosPlot(t_131)\n",
    "plt.show()"
   ]
  },
  {
   "cell_type": "code",
   "execution_count": null,
   "id": "4139133e-c52b-4648-a4b8-1958a642dd75",
   "metadata": {},
   "outputs": [],
   "source": [
    "#Now the same but with the subset from twitter data.\n",
    "nv.MatrixPlot(T_sub)\n",
    "plt.show()"
   ]
  },
  {
   "cell_type": "code",
   "execution_count": null,
   "id": "b9377c6b-433d-4199-94e5-7cdf5f8f0502",
   "metadata": {},
   "outputs": [],
   "source": [
    "nv.ArcPlot(T_sub)\n",
    "plt.show()"
   ]
  },
  {
   "cell_type": "code",
   "execution_count": null,
   "id": "0bd1ea0f-9db6-4bc2-96f8-952b4da09580",
   "metadata": {},
   "outputs": [],
   "source": [
    "nv.CircosPlot(T_sub)\n",
    "plt.show()"
   ]
  },
  {
   "cell_type": "markdown",
   "id": "7d2f2303-2911-4c7b-9f6e-cf76c2d712b5",
   "metadata": {},
   "source": [
    "## Degree Centrality\n",
    "\n",
    "How to determine which nodes are important \n",
    "\n",
    "- Which centre node might be more important?\n",
    "  ![star_graph][1]\n",
    "\n",
    "The centre node of the left graph is more important because it is connected to more nodes. Being connected to other nodes means other nodes are considered neighbours of that node. From the concept of neighbours, we can now introduce the concept of _degree centrality_\n",
    "\n",
    "This is one of many metrics we can use to evaluate the importance of a node and is simply defined as the number of neighbours that a node has divided by the total number of neighbours that the node could possibly have:\n",
    "\n",
    "> $\\frac{\\text{Number of Neighbors I Have}}{\\text{Number of Neighbors I could Possibly Have}}$\n",
    "\n",
    "Mathematically, the degree centrality $C_D(i)$of a node $i$ in an undirected graph is calculated as the ratio of the number of edges connected to node $i$ to the total number of nodes in the graph minus one: \n",
    "\n",
    "> $C_D(i) = \\frac{\\text{degree of node } i}{\\text{total number of nodes} - 1}$\n",
    "\n",
    "In a directed graph, there are two variants of degree centrality: in-degree centrality (counting incoming edges) and out-degree centrality (counting outgoing edges).\n",
    "\n",
    "- There are two scenarios possible here:\n",
    "  * if **self-loops are allowed**, such as in a network mapping of all bike trips in a bike-sharing system, then the number of neighbours that you could possibly have is every single node in the graph, including myself.\n",
    "    \n",
    "  * if **self-loops are not allowed**, such as in Twitter, where, by definition, your account cannot follow itself, then the number of neighbours you could possibly have is every other node in the graph, excluding myself.\n",
    "\n",
    "- In the real world, the example of nodes in a graph that has a high degree of centrality might be:\n",
    "  * Twitter broadcasters, that is, users that are followed by many other users\n",
    "  * Airport transportation hubs, such as New York, London or Tokyo\n",
    "  * Disease super-spreaders, who are the individuals that epidemiologists would want to track down to help stop the spread of a disease\n",
    "   \n",
    "  [1]: https://raw.githubusercontent.com/trenton3983/DataCamp/master/Images/2020-05-21_intro_to_network_analysis_in_python/star_graphs.JPG"
   ]
  },
  {
   "cell_type": "code",
   "execution_count": null,
   "id": "2c800169-f91e-4c52-85c5-f4aa5f204de4",
   "metadata": {},
   "outputs": [],
   "source": [
    "import networkx as nx\n",
    "import matplotlib.pyplot as plt\n",
    "\n",
    "# Synthetic graph\n",
    "T = nx.Graph()\n",
    "T.add_edges_from([(1, 2), (1, 3), (2, 3), (3, 4), (4, 5), (5, 1)])\n",
    "\n",
    "# How to get the degree centrality\n",
    "degree_centrality = nx.degree_centrality(T)\n",
    "\n",
    "# Just a fancy plot for each node\n",
    "for node, centrality in degree_centrality.items():\n",
    "    print(f\"Node {node}: Degree Centrality = {centrality:.3f}\")\n",
    "\n",
    "# Plot the graph\n",
    "pos = nx.spring_layout(T)\n",
    "nx.draw(T, pos, with_labels=True, node_size=700, node_color='skyblue')\n",
    "plt.title('Graph T with Degree Centrality')\n",
    "plt.show()\n"
   ]
  },
  {
   "cell_type": "markdown",
   "id": "ed2a093f-4cff-49a4-9f83-aec756c22587",
   "metadata": {},
   "source": [
    "# Challenge 1\n",
    "\n",
    "It's time for you to apply everything you learned by analyzing a case study of GitHub's collaborator network data.\n",
    "\n",
    "- **Data**: `github_users.p` (avaliable in Moodle)\n",
    "\n",
    "> This dataset is a GitHub user collaboration network. As you already know, GitHub is a social coding site where users can collaborate on code repositories. In this network, nodes are users, and edges indicate that two users are collaborators on at least one GitHub repository.\n",
    "\n",
    "1. Read the GitHub network dataset.\n",
    "2. Describe using the basic functions of the graph's size. Explore nodes and edges. Provide how many nodes and edges are present in the network\n",
    "3. Calculate the **degree centrality** of the GitHub collaboration network G. Using the .values() method of the network (e.g. G), extract the degree centrality values and convert them into a list. Then, plot a histogram to visualize the distribution of node degrees in the network.\n",
    "4. Make a subset of the initial network (e.g. Gh_sub), where you include at least five nodes and their corresponding edges. Experiment with multiple nodes so you have a graph with enough edges to work on.\n",
    "5. Plot the subset graph created.\n",
    "6. Now calculate another relevant measure of the network -- **betweenness centrality**. Plot the betweenness centrality distribution of the subset you created. Tip: Same steps from the previous step, but use `nx.betweenness_centrality()`\n",
    "7. Plot the Matrix, Arc and Circos from the subset."
   ]
  },
  {
   "cell_type": "markdown",
   "id": "c50fb150-0a96-4a7b-ab58-575402bf4252",
   "metadata": {},
   "source": [
    "# OSMnx\n",
    "\n",
    "Is a Python package to download, model, analyze, and visualize street networks and other geospatial features from OpenStreetMap. You can download and model walking, driving, or biking networks with a single line of code then easily analyze and visualize them. You can just as easily work with urban amenities/points of interest, building footprints, transit stops, elevation data, street orientations, speed/travel time, and routing.[1]\n",
    "\n",
    "[1]:https://geoffboeing.com/2016/11/osmnx-python-street-networks/\n",
    "\n",
    "> The following practice are based on the OSMnx Examples Gallery[2]\n",
    "\n",
    "[2]: https://github.com/gboeing/osmnx-examples/tree/main?tab=readme-ov-file#osmnx-examples-gallery"
   ]
  },
  {
   "cell_type": "code",
   "execution_count": null,
   "id": "d0b82608-beb5-4a1f-8ccb-0da4c714494f",
   "metadata": {
    "scrolled": true
   },
   "outputs": [],
   "source": [
    "#pip install osmnx\n",
    "#Install this package in case it is needed."
   ]
  },
  {
   "cell_type": "code",
   "execution_count": null,
   "id": "484eb1dd-d825-4ec2-b9fc-dc11d6fb8138",
   "metadata": {},
   "outputs": [],
   "source": [
    "import networkx as nx\n",
    "import osmnx as ox"
   ]
  },
  {
   "cell_type": "markdown",
   "id": "fe1cd4e6-8597-40c6-808f-e161d5557f28",
   "metadata": {},
   "source": [
    "## Fetch data from OSM\n",
    "\n",
    "There are multiple ways to fetch the data from OSM, using osmnx"
   ]
  },
  {
   "cell_type": "markdown",
   "id": "a27039e3-399a-49b6-9b53-193402131622",
   "metadata": {},
   "source": [
    "### Using a Place to Geocode"
   ]
  },
  {
   "cell_type": "code",
   "execution_count": null,
   "id": "4fbac4ca-9497-463e-a4ef-daac82592201",
   "metadata": {},
   "outputs": [],
   "source": [
    "# download/model a street network for some city then visualize it\n",
    "G = ox.graph_from_place(\"St Andrews\", network_type=\"drive\")\n",
    "fig, ax = ox.plot_graph(G)"
   ]
  },
  {
   "cell_type": "markdown",
   "id": "db2148aa-de04-4a7c-b980-22f7481143e7",
   "metadata": {},
   "source": [
    "Here is the https://nominatim.openstreetmap.org/ui/search.html geocoding server we are using"
   ]
  },
  {
   "cell_type": "markdown",
   "id": "080f04e5-92a5-40d6-b46a-9db42ddd124e",
   "metadata": {},
   "source": [
    "### Making a query in a form of a Dict."
   ]
  },
  {
   "cell_type": "code",
   "execution_count": null,
   "id": "c06866d6-a27a-45e6-81df-dfb5adc61c6d",
   "metadata": {},
   "outputs": [],
   "source": [
    "# You can make the query an unambiguous dict to help the geocoder find it\n",
    "place = {\"city\": \"San Francisco\", \"state\": \"California\", \"country\": \"USA\"}\n",
    "G = ox.graph_from_place(place, network_type=\"drive\", truncate_by_edge=True)\n",
    "fig, ax = ox.plot_graph(G, figsize=(10, 10), node_size=0, edge_color=\"y\", edge_linewidth=0.2)"
   ]
  },
  {
   "cell_type": "code",
   "execution_count": null,
   "id": "9ced0f3e-4355-4936-9081-fec834a245e4",
   "metadata": {},
   "outputs": [],
   "source": [
    "# You can get networks anywhere in the world\n",
    "G = ox.graph_from_place(\"Sinalunga, Italy\", network_type=\"all\")\n",
    "fig, ax = ox.plot_graph(G, node_size=0, edge_linewidth=0.5)"
   ]
  },
  {
   "cell_type": "markdown",
   "id": "6aa845e4-859f-40fc-9b29-f8eb3c2d1852",
   "metadata": {},
   "source": [
    "### Using a centre or BBox"
   ]
  },
  {
   "cell_type": "code",
   "execution_count": null,
   "id": "b52687cd-9517-4cf3-b472-747ac891828d",
   "metadata": {},
   "outputs": [],
   "source": [
    "# or get network by address, coordinates, bounding box, or any custom polygon\n",
    "# ...useful when OSM just doesn't already have a polygon for the place you want\n",
    "wurster_hall = (37.870605, -122.254830)\n",
    "one_mile = 1609  # meters\n",
    "G = ox.graph_from_point(wurster_hall, dist=one_mile, network_type=\"drive\")\n",
    "fig, ax = ox.plot_graph(G, node_size=0)"
   ]
  },
  {
   "cell_type": "markdown",
   "id": "95a0d69a-6f75-4ff1-88b1-54837287f2f0",
   "metadata": {},
   "source": [
    "### Fetch other type of features"
   ]
  },
  {
   "cell_type": "code",
   "execution_count": null,
   "id": "929b2e80-23a1-4972-b4e8-1725605b1b95",
   "metadata": {},
   "outputs": [],
   "source": [
    "# get NY subway rail network\n",
    "G = ox.graph_from_place(\n",
    "    \"New York, New York, USA\",\n",
    "    retain_all=False,\n",
    "    truncate_by_edge=True,\n",
    "    simplify=True,\n",
    "    custom_filter='[\"railway\"~\"subway\"]',\n",
    ")\n",
    "\n",
    "fig, ax = ox.plot_graph(G, node_size=0, edge_color=\"w\", edge_linewidth=0.2)"
   ]
  },
  {
   "cell_type": "code",
   "execution_count": null,
   "id": "61c15e95-c233-46c7-874f-e585aa11dde0",
   "metadata": {},
   "outputs": [],
   "source": [
    "# get all building footprints in some neighborhood\n",
    "place = \"SoHo, New York, NY\"\n",
    "tags = {\"building\": True}\n",
    "gdf = ox.features_from_place(place, tags)\n",
    "gdf.shape"
   ]
  },
  {
   "cell_type": "code",
   "execution_count": null,
   "id": "9b33d4e8-13ef-44f7-ab56-70064918a892",
   "metadata": {},
   "outputs": [],
   "source": [
    "warnings.simplefilter('ignore', DeprecationWarning)\n",
    "\n",
    "fig, ax = ox.plot_footprints(gdf, figsize=(12, 10))"
   ]
  },
  {
   "cell_type": "markdown",
   "id": "17f939f4-0a53-423f-a1f3-6c4d5999ee76",
   "metadata": {},
   "source": [
    "> Now, try to find street network from other places or cities, for each method. "
   ]
  },
  {
   "cell_type": "markdown",
   "id": "f1dc89f4-2b0d-4fe6-af64-78346bdc5a0d",
   "metadata": {},
   "source": [
    "## Convert your MutiDiGraph to other formats or Graphs.\n",
    "\n",
    "\n",
    "Probably the most common for you will be the GeoDataframes"
   ]
  },
  {
   "cell_type": "code",
   "execution_count": null,
   "id": "8385508a-d5c7-48e5-aae8-71309cda8aca",
   "metadata": {
    "scrolled": true
   },
   "outputs": [],
   "source": [
    "warnings.simplefilter('ignore', DeprecationWarning)\n",
    "\n",
    "# convert your MultiDiGraph to an undirected MultiGraph\n",
    "M = ox.utils_graph.get_undirected(G)\n",
    "\n",
    "# convert your MultiDiGraph to a DiGraph without parallel edges\n",
    "D = ox.utils_graph.get_digraph(G)\n",
    "\n",
    "# You can convert your graph to node and edge  GeoDataFrames\n",
    "gdf_nodes, gdf_edges = ox.graph_to_gdfs(G)"
   ]
  },
  {
   "cell_type": "code",
   "execution_count": null,
   "id": "7912e489-bf59-4606-b725-be8e332bb26a",
   "metadata": {},
   "outputs": [],
   "source": [
    "gdf_nodes.head()"
   ]
  },
  {
   "cell_type": "code",
   "execution_count": null,
   "id": "9f9d2862-2c54-4f4d-9e3c-cdf85bfd6707",
   "metadata": {},
   "outputs": [],
   "source": [
    "gdf_edges.head()\n",
    "# Can you see the structure of this nested table?"
   ]
  },
  {
   "cell_type": "markdown",
   "id": "6d6fb7e7-0814-4ca8-81dd-0da3f1a87b7b",
   "metadata": {},
   "source": [
    "## Basic street network stats"
   ]
  },
  {
   "cell_type": "code",
   "execution_count": null,
   "id": "97995c6b-cc01-459c-8b0b-1423d3cfa6aa",
   "metadata": {
    "scrolled": true
   },
   "outputs": [],
   "source": [
    "# What sized area does our network cover in square meters?\n",
    "warnings.filterwarnings('ignore')\n",
    "G_proj = ox.project_graph(G)\n",
    "nodes_proj = ox.graph_to_gdfs(G_proj, edges=False)\n",
    "graph_area_m = nodes_proj.unary_union.convex_hull.area\n",
    "graph_area_m"
   ]
  },
  {
   "cell_type": "code",
   "execution_count": null,
   "id": "cb054c64-562e-4bdc-83c8-182294a48621",
   "metadata": {
    "scrolled": true
   },
   "outputs": [],
   "source": [
    "# show some basic stats about the network\n",
    "ox.basic_stats(G_proj, area=graph_area_m, clean_int_tol=15)"
   ]
  },
  {
   "cell_type": "markdown",
   "id": "1a4d2dd0-85f5-4456-a17e-21abeabbddac",
   "metadata": {},
   "source": [
    "Check this link to get all the available stats you can get from a street network \n",
    "stats documentation: https://osmnx.readthedocs.io/en/stable/osmnx.html#module-osmnx.stats\n",
    "\n"
   ]
  },
  {
   "cell_type": "markdown",
   "id": "b2c29a19-914e-4c54-8223-5e5193a79b9a",
   "metadata": {},
   "source": [
    "## Visualize street centrality\n",
    "\n",
    "Here we plot the street network and color its edges (streets) by their relative closeness centrality."
   ]
  },
  {
   "cell_type": "code",
   "execution_count": null,
   "id": "780df197-f93e-4834-a638-dd53203ef49c",
   "metadata": {},
   "outputs": [],
   "source": [
    "# convert graph to line graph so edges become nodes and vice versa\n",
    "edge_centrality = nx.closeness_centrality(nx.line_graph(G))\n",
    "nx.set_edge_attributes(G, edge_centrality, \"edge_centrality\")"
   ]
  },
  {
   "cell_type": "code",
   "execution_count": null,
   "id": "b9087292-65db-443b-9d9f-c50ef889a8a7",
   "metadata": {},
   "outputs": [],
   "source": [
    "# color edges in original graph with closeness centralities from line graph\n",
    "ec = ox.plot.get_edge_colors_by_attr(G, \"edge_centrality\", cmap=\"inferno\")\n",
    "fig, ax = ox.plot_graph(G, edge_color=ec, edge_linewidth=2, node_size=0)"
   ]
  },
  {
   "cell_type": "markdown",
   "id": "3188be34-4809-43c3-8cf8-9a03022333e1",
   "metadata": {},
   "source": [
    "## Routing"
   ]
  },
  {
   "cell_type": "code",
   "execution_count": null,
   "id": "aaa105bb-46f0-4dcd-8bb2-c7e7476c8139",
   "metadata": {},
   "outputs": [],
   "source": [
    "# impute missing edge speeds and calculate edge travel times with the speed module\n",
    "G = ox.graph_from_place(\"Dunfermline, Scotland\", network_type=\"drive\")\n",
    "fig, ax = ox.plot_graph(G)\n",
    "\n",
    "G = ox.speed.add_edge_speeds(G)\n",
    "G = ox.speed.add_edge_travel_times(G)"
   ]
  },
  {
   "cell_type": "code",
   "execution_count": null,
   "id": "04df7aaa-560e-483f-92f0-1c2bd021fb05",
   "metadata": {},
   "outputs": [],
   "source": [
    "# get the nearest network nodes to two lat/lng points with the distance module\n",
    "orig = ox.distance.nearest_nodes(G, X=-3.43071, Y=56.07775)\n",
    "dest = ox.distance.nearest_nodes(G, X=-3.40972, Y=56.05672)"
   ]
  },
  {
   "cell_type": "code",
   "execution_count": null,
   "id": "bb25d129-b590-4cf6-b005-3a3a03559bc6",
   "metadata": {},
   "outputs": [],
   "source": [
    "\n",
    "# find the shortest path between nodes, minimizing travel time, then plot it\n",
    "route = ox.shortest_path(G, orig, dest, weight=\"travel_time\")\n",
    "fig, ax = ox.plot_graph_route(G, route, node_size=0)"
   ]
  },
  {
   "cell_type": "code",
   "execution_count": null,
   "id": "7d987214-1070-4606-bb60-da85fb7bb85e",
   "metadata": {},
   "outputs": [],
   "source": [
    "# how long is our route in meters?\n",
    "edge_lengths = ox.utils_graph.route_to_gdf(G, route)[\"length\"]\n",
    "round(sum(edge_lengths))"
   ]
  },
  {
   "cell_type": "code",
   "execution_count": null,
   "id": "b299eacc-a426-4b63-b409-2724ac86146c",
   "metadata": {},
   "outputs": [],
   "source": [
    "# how far is it between these two nodes as the crow flies?\n",
    "# use OSMnx's vectorized great-circle distance (haversine) function\n",
    "orig_x = G.nodes[orig][\"x\"]\n",
    "orig_y = G.nodes[orig][\"y\"]\n",
    "dest_x = G.nodes[dest][\"x\"]\n",
    "dest_y = G.nodes[dest][\"y\"]\n",
    "round(ox.distance.great_circle(orig_y, orig_x, dest_y, dest_x))"
   ]
  },
  {
   "cell_type": "markdown",
   "id": "f4cd6ded-623e-449c-9420-5ff3c6d0bf10",
   "metadata": {},
   "source": [
    "Your turn try to find another city and compute the nearest route. and the basic stats."
   ]
  },
  {
   "cell_type": "code",
   "execution_count": null,
   "id": "49d152da-8065-48c6-9fab-b297be1d4eb2",
   "metadata": {},
   "outputs": [],
   "source": [
    "#Add your code here."
   ]
  },
  {
   "cell_type": "markdown",
   "id": "2e5ac55f-6e54-4b31-9172-412a084e55dd",
   "metadata": {},
   "source": [
    "### Add Elevation profile to routing"
   ]
  },
  {
   "cell_type": "markdown",
   "id": "2c4a72e0-e93a-426c-9650-1fd6937ad6d5",
   "metadata": {},
   "source": [
    "> You can add elevation attributes to your graph's nodes automatically with the elevation module, using either local raster files or the Google Maps Elevation API."
   ]
  },
  {
   "cell_type": "markdown",
   "id": "d4d0c94a-7074-4349-853f-f53d2f970751",
   "metadata": {},
   "source": [
    "1. Go to https://developers.google.com/maps/documentation/elevation/get-api-key\n",
    "2. Follow the instructions to get the google elevation api key. This is a paid service, but you can get a free trial where you can get an API key and complete this part. You don't need to restrict your API key as it would not be used in production env.\n",
    "3. **NOTE:** DO NOT ADD ANY PAYMENT METHOD...this is an entirely academic exercise; if you don't have access to a Free Trial, then skip the next part. \n",
    "\n",
    "> This is probably new for you, but we can use the method `try/except` to control potential errors in our code. This is very useful to make our code more easy to digest. So you can add `try:`, then the code you would like to run, and if there is any problem, then add `except` to print or customize the error.\n",
    "> "
   ]
  },
  {
   "cell_type": "code",
   "execution_count": null,
   "id": "98d333fd-ee5b-4119-8155-9abdf1760644",
   "metadata": {},
   "outputs": [],
   "source": [
    "# Add elevation to nodes automatically, calculate edge grades, plot network\n",
    "try:\n",
    "    from keys import google_elevation_api_key\n",
    "    G = ox.elevation.add_node_elevations_google(G, api_key=google_elevation_api_key) #replace your key here!\n",
    "    G = ox.elevation.add_edge_grades(G)\n",
    "    nc = ox.plot.get_node_colors_by_attr(G, \"elevation\", cmap=\"plasma\")\n",
    "    fig, ax = ox.plot_graph(G, node_color=nc, node_size=20, edge_linewidth=2, edge_color=\"#333\")\n",
    "except ImportError:\n",
    "    print(\"You need a google_elevation_api_key to run this cell.\")"
   ]
  },
  {
   "cell_type": "markdown",
   "id": "945eb348-b04f-4742-806e-a1da17c9a26d",
   "metadata": {},
   "source": [
    "Nodes are colored from lowest elevation (dark blue) to highest (bright yellow).\n",
    "\n",
    "There is an example here (https://github.com/gboeing/osmnx-examples/blob/bb870c225906db5a7b02c4c87a28095cb9dceb30/notebooks/12-node-elevations-edge-grades.ipynb) of how to create the same outcome by using a local elevation model and creating elevation-based impedance functions to route around hills."
   ]
  },
  {
   "cell_type": "markdown",
   "id": "44190233-490a-49a0-964b-18b010b49c96",
   "metadata": {},
   "source": [
    "## Street network figure-ground diagrams\n",
    "This is a cool feature from the OSMnx library you can plot a figure-ground figures from your favorites places."
   ]
  },
  {
   "cell_type": "code",
   "execution_count": null,
   "id": "966a9d3d-c0aa-4b6d-a682-58a1c06b154a",
   "metadata": {},
   "outputs": [],
   "source": [
    "import osmnx as ox\n",
    "from IPython.display import Image"
   ]
  },
  {
   "cell_type": "code",
   "execution_count": null,
   "id": "c85d44fb-74fc-4456-ab4d-262cee981a0e",
   "metadata": {},
   "outputs": [],
   "source": [
    "# configure the inline image display\n",
    "img_folder = \"images\"\n",
    "extension = \"png\"\n",
    "size = 240\n",
    "dpi = 40"
   ]
  },
  {
   "cell_type": "code",
   "execution_count": null,
   "id": "6eb40ffc-346f-4cdb-b941-a364e964fae5",
   "metadata": {},
   "outputs": [],
   "source": [
    "place = \"portland\"\n",
    "point = (45.517309, -122.682138)\n",
    "fp = f\"./{img_folder}/{place}.{extension}\"\n",
    "fig, ax = ox.plot_figure_ground(\n",
    "    point=point,\n",
    "    network_type=\"drive\",\n",
    "    filepath=fp,\n",
    "    dpi=dpi,\n",
    "    save=True,\n",
    "    show=False,\n",
    "    close=True,\n",
    ")\n",
    "Image(fp, height=size, width=size)"
   ]
  },
  {
   "cell_type": "code",
   "execution_count": null,
   "id": "8c0e62aa-1135-4472-824f-437d7c6e9b08",
   "metadata": {},
   "outputs": [],
   "source": [
    "place = \"barcelona-gothic\"\n",
    "point = (41.382850, 2.174192)\n",
    "fp = f\"./{img_folder}/{place}.{extension}\"\n",
    "fig, ax = ox.plot_figure_ground(\n",
    "    point=point,\n",
    "    network_type=\"all\",\n",
    "    default_width=3.3,\n",
    "    filepath=fp,\n",
    "    dpi=dpi,\n",
    "    save=True,\n",
    "    show=False,\n",
    "    close=True,\n",
    ")\n",
    "Image(fp, height=size, width=size)"
   ]
  },
  {
   "cell_type": "code",
   "execution_count": null,
   "id": "a2f6c1e4-d450-4696-abe4-120172f9249b",
   "metadata": {},
   "outputs": [],
   "source": [
    "street_widths = {\n",
    "    \"footway\": 0.5,\n",
    "    \"steps\": 0.5,\n",
    "    \"pedestrian\": 0.5,\n",
    "    \"path\": 0.5,\n",
    "    \"track\": 0.5,\n",
    "    \"service\": 2,\n",
    "    \"residential\": 3,\n",
    "    \"primary\": 5,\n",
    "    \"motorway\": 6,\n",
    "}\n",
    "place = \"sf-custom\"\n",
    "point = (37.793897, -122.402189)\n",
    "fp = f\"./{img_folder}/{place}.{extension}\"\n",
    "fig, ax = ox.plot_figure_ground(\n",
    "    point=point,\n",
    "    filepath=fp,\n",
    "    network_type=\"all\",\n",
    "    street_widths=street_widths,\n",
    "    dpi=dpi,\n",
    "    save=True,\n",
    "    show=False,\n",
    "    close=True,\n",
    ")\n",
    "Image(fp, height=size, width=size)"
   ]
  },
  {
   "cell_type": "markdown",
   "id": "120cd69b-6764-4a67-9fa3-2057670f5058",
   "metadata": {},
   "source": [
    "> Would you care the custome the previous figure-ground plots to add the name of the place at the top so you have a cool map?"
   ]
  },
  {
   "cell_type": "markdown",
   "id": "bb0ead63-0acc-4c0e-9753-4b0107cc0a9a",
   "metadata": {},
   "source": [
    "## Explore urban networks as interactive web maps\n"
   ]
  },
  {
   "cell_type": "code",
   "execution_count": null,
   "id": "706e36f0-1ad7-4687-b2d9-cb54c0afaa0d",
   "metadata": {},
   "outputs": [],
   "source": [
    "warnings.filterwarnings('ignore')\n",
    "# download a street network then solve a shortest-path route on it\n",
    "weight = \"length\"\n",
    "G = ox.graph_from_place(\"Candelaria, Bogota\", network_type=\"drive\")\n",
    "orig = list(G.nodes)[0]\n",
    "dest = list(G.nodes)[-1]\n",
    "route = ox.shortest_path(G, orig, dest, weight=weight)"
   ]
  },
  {
   "cell_type": "code",
   "execution_count": null,
   "id": "3b11b267-92bb-454c-bd9d-5587b1e43338",
   "metadata": {},
   "outputs": [],
   "source": [
    "# explore graph edges interactively, with a simple one-liner\n",
    "ox.graph_to_gdfs(G, nodes=False).explore()"
   ]
  },
  {
   "cell_type": "code",
   "execution_count": null,
   "id": "83f7b451-8452-4ef3-8e54-5e0403276a20",
   "metadata": {},
   "outputs": [],
   "source": [
    "# explore graph nodes interactively, with different basemap tiles\n",
    "nodes = ox.graph_to_gdfs(G, edges=False)\n",
    "nodes.explore(tiles=\"cartodbpositron\", marker_kwds={\"radius\": 8})"
   ]
  },
  {
   "cell_type": "code",
   "execution_count": null,
   "id": "89ecc0f4-6c60-4f87-b73e-988a1e5f888b",
   "metadata": {},
   "outputs": [],
   "source": [
    "# explore nodes and edges together in a single map\n",
    "nodes, edges = ox.graph_to_gdfs(G)\n",
    "m = edges.explore(color=\"skyblue\", tiles=\"cartodbdarkmatter\")\n",
    "nodes.explore(m=m, color=\"pink\", marker_kwds={\"radius\": 6})"
   ]
  },
  {
   "cell_type": "code",
   "execution_count": null,
   "id": "cb492f86-ac2f-407e-8146-be4ec73bd0fb",
   "metadata": {},
   "outputs": [],
   "source": [
    "# explore graph edges interactively, colored by length\n",
    "edges.explore(tiles=\"cartodbdarkmatter\", column=\"length\", cmap=\"plasma\")"
   ]
  },
  {
   "cell_type": "code",
   "execution_count": null,
   "id": "01d84360-2c2f-4146-ae46-ac265a676065",
   "metadata": {},
   "outputs": [],
   "source": [
    "# explore graph nodes interactively, colored by betweenness centrality\n",
    "nx.set_node_attributes(G, nx.betweenness_centrality(G, weight=\"length\"), name=\"bc\")\n",
    "nodes = ox.graph_to_gdfs(G, edges=False)\n",
    "nodes.explore(tiles=\"cartodbdarkmatter\", column=\"bc\", marker_kwds={\"radius\": 8})"
   ]
  },
  {
   "cell_type": "markdown",
   "id": "1808610e-dd77-4439-9d4f-68ff94c5912e",
   "metadata": {},
   "source": [
    "## Save/Export your network in another format.\n",
    "It is very useful to use the graph in another GIS software or python library"
   ]
  },
  {
   "cell_type": "code",
   "execution_count": null,
   "id": "1989e1ba-8d82-4aca-9a1a-251f3d8ac6d4",
   "metadata": {},
   "outputs": [],
   "source": [
    "# Save graph to disk as geopackage (for GIS) or graphml file (for gephi etc)\n",
    "ox.save_graph_geopackage(G, filepath=\"./data/mynetwork.gpkg\")\n",
    "ox.save_graphml(G, filepath=\"./data/mynetwork.graphml\")"
   ]
  },
  {
   "cell_type": "markdown",
   "id": "c9f38cb6-df37-427e-9abc-d970e623f946",
   "metadata": {},
   "source": [
    "# Challenge 2\n",
    "\n",
    "This challenge is about OSMnx. You will explore and analyze a city's street network using the OSMnx Python library.\n",
    "\n",
    "1. Use OSMnx to download the street network of a city of your choice. You can specify the city name, BBox or a Dict.\n",
    "2. Calculate basic statistics for the street network, such as the number of nodes, edges, average node degree, etc.\n",
    "3. Use OSMnx to plot the street network. Customize the plot to make it visually appealing, including node size, edge color. See the potential options here: https://osmnx.readthedocs.io/en/stable/user-reference.html#module-osmnx.plot\n",
    "4. Utilize the routing capabilities of OSMnx to find the shortest path between two points in the street network. Plot the route on top of the street network.\n",
    "5. Calculate the centrality measures (e.g., degree centrality and betweenness_centrality) for nodes in the street network.\n",
    "6. Create the figure-groud from the selected city\n",
    "7. Create interactive maps to plot nodes, edges, nodes+edges and one of the centrality measures.\n",
    "8. Export the street network to a GeoPackage (.gpkg) file. Ensure that the exported file contains both node and edge attributes. Demonstrate that the new GeoPackage can be used and read in Python using any of the libraries we have seen in the class to create a simple and interactive map.\n",
    "9. Finally, use OSMnx to extract other urban elements (e.g., buildings, parks) and plot them."
   ]
  },
  {
   "cell_type": "markdown",
   "id": "5bce293e-ddc9-48ef-8a24-f2663dcf5c95",
   "metadata": {},
   "source": [
    "# Networks Data source\n",
    "\n",
    "https://snap.stanford.edu/data/"
   ]
  },
  {
   "cell_type": "markdown",
   "id": "9502c1ae-6877-4e1c-8341-60111f1f84e6",
   "metadata": {},
   "source": [
    "# Finishing the Lab\n",
    "\n",
    "Please ensure that you save all your code and upload the latest version of this notebook to your **GitHub repository**. \n",
    "\n",
    "> Always check the size of your notebook before making any commit; use the `.gitignore` to skip big data sets or undesired files., but describe where to find the data and the correct structure, so when the marker forks, your code will be able to reproduce your results. \n"
   ]
  },
  {
   "cell_type": "markdown",
   "id": "59622eab-8310-49c3-b04f-0fbd8d81eac7",
   "metadata": {},
   "source": [
    "# More resources\n",
    "\n",
    "* https://en.wikipedia.org/wiki/Network_theory\n",
    "* OSMnx Examples Gallery - https://github.com/gboeing/osmnx-examples\n",
    "* https://networkx.org/documentation/latest/index.html\n",
    "* https://nxviz.readthedocs.io/en/latest/index.html"
   ]
  }
 ],
 "metadata": {
  "kernelspec": {
   "display_name": "Python 3 (ipykernel)",
   "language": "python",
   "name": "python3"
  },
  "language_info": {
   "codemirror_mode": {
    "name": "ipython",
    "version": 3
   },
   "file_extension": ".py",
   "mimetype": "text/x-python",
   "name": "python",
   "nbconvert_exporter": "python",
   "pygments_lexer": "ipython3",
   "version": "3.10.13"
  }
 },
 "nbformat": 4,
 "nbformat_minor": 5
}
