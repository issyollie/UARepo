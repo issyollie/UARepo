{
 "cells": [
  {
   "cell_type": "code",
   "execution_count": 1,
   "id": "0fae74bc-80cb-4486-b1a3-68e7eac2f2db",
   "metadata": {},
   "outputs": [
    {
     "name": "stdout",
     "output_type": "stream",
     "text": [
      "Hello, world\n"
     ]
    }
   ],
   "source": [
    "print (\"Hello, world\")"
   ]
  },
  {
   "cell_type": "markdown",
   "id": "34e94995-488d-42bc-a831-999deca7a468",
   "metadata": {},
   "source": [
    "Heading 1"
   ]
  },
  {
   "cell_type": "markdown",
   "id": "3e5bfa74-9f75-484f-b708-5f3c89f507ed",
   "metadata": {},
   "source": [
    "# My First Markdown Heading "
   ]
  },
  {
   "cell_type": "markdown",
   "id": "b3ef4d2a-d623-4d9a-9eee-37cafc509e9e",
   "metadata": {},
   "source": [
    "## My Second Markdown Heading "
   ]
  },
  {
   "cell_type": "markdown",
   "id": "8418c3fc-0e84-4f57-b628-d1f818635f0a",
   "metadata": {},
   "source": [
    "This is some **bold** text"
   ]
  },
  {
   "cell_type": "markdown",
   "id": "a314093a-7009-4691-a1b3-ce2526b7cc6f",
   "metadata": {},
   "source": [
    "1. First Item\n",
    "2. Second Item\n",
    "3. Third Item\n"
   ]
  },
  {
   "cell_type": "code",
   "execution_count": 3,
   "id": "49016368-063b-4a90-9e04-319b32fe4cc1",
   "metadata": {},
   "outputs": [],
   "source": [
    "my_var =5"
   ]
  },
  {
   "cell_type": "code",
   "execution_count": 5,
   "id": "829ce448-d11b-4e51-a079-0302d16d78f9",
   "metadata": {},
   "outputs": [
    {
     "name": "stdout",
     "output_type": "stream",
     "text": [
      "10\n"
     ]
    }
   ],
   "source": [
    "result = my_var * 2 \n",
    "print (result)"
   ]
  },
  {
   "cell_type": "code",
   "execution_count": null,
   "id": "fc3f67b6-eb00-44e2-8918-10eb84fb712e",
   "metadata": {},
   "outputs": [],
   "source": []
  }
 ],
 "metadata": {
  "kernelspec": {
   "display_name": "Python 3 (ipykernel)",
   "language": "python",
   "name": "python3"
  },
  "language_info": {
   "codemirror_mode": {
    "name": "ipython",
    "version": 3
   },
   "file_extension": ".py",
   "mimetype": "text/x-python",
   "name": "python",
   "nbconvert_exporter": "python",
   "pygments_lexer": "ipython3",
   "version": "3.10.13"
  }
 },
 "nbformat": 4,
 "nbformat_minor": 5
}
