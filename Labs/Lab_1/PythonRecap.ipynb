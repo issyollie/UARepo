{
 "cells": [
  {
   "cell_type": "markdown",
   "id": "7aee5db5-d4d9-43ba-9da3-5ea6cf929ced",
   "metadata": {
    "jp-MarkdownHeadingCollapsed": true
   },
   "source": [
    "\n",
    "# Urban Analytics: A Toolkit for Sustainable Urban Development.\n",
    "\n",
    "## Notebook to practice the Python Basics\n",
    "\n",
    "---\n",
    "\n",
    "Dr Fernando Benitez-Paez -  University of St Andrews - School of Geography and Sustainable Development Iteration 2024-1.0"
   ]
  },
  {
   "cell_type": "markdown",
   "id": "c992eb8c-23bc-4675-ac2c-2ac37cdee82b",
   "metadata": {
    "jp-MarkdownHeadingCollapsed": true
   },
   "source": [
    "# Exercise 1:  Introduction to Markdown\n",
    "\n",
    "* In the following Markdown cell, write your name, you student ID, your github user, and the URL of your UA repo in github.\n",
    "* Insert three links to your favourite websites.\n",
    "* Check this website to get all the syntax from Markdown https://www.markdownguide.org/basic-syntax/"
   ]
  },
  {
   "cell_type": "markdown",
   "id": "61b291e0",
   "metadata": {
    "jp-MarkdownHeadingCollapsed": true
   },
   "source": [
    "# Isaiah Bowen-Karlyn\n",
    "## 200024980 \n",
    "## Github username: issyollie\n",
    "## <https://github.com/issyollie/UARepo>\n",
    "\n",
    "# My Favorite Websites! \n",
    "## For music: [Every Noise At Once](https://everynoise.com/engenremap.html) \n",
    "## For books: [Anna's Archive](https://annas-archive.org/)\n",
    "## For guitar: [C-Blues Scale](https://www.guitarscale.org/g-blues.html) \n"
   ]
  },
  {
   "cell_type": "markdown",
   "id": "31f919a6-948b-471f-9d1b-cafff54bf19a",
   "metadata": {},
   "source": [
    "# Challenge 1: \n",
    " Create a table with required columns and rows to represent the type of roads in the UK. The table should include headers and hiperlinks."
   ]
  },
  {
   "cell_type": "code",
   "execution_count": null,
   "id": "04217b8d-d10b-4283-865e-83ddc18354f0",
   "metadata": {},
   "outputs": [],
   "source": [
    "import numpy as np \n",
    "import pandas as pd"
   ]
  },
  {
   "cell_type": "markdown",
   "id": "c837bbfb-d934-485a-9d0a-c0000c0b34f7",
   "metadata": {},
   "source": [
    "## Using Pandas DataFrame"
   ]
  },
  {
   "cell_type": "code",
   "execution_count": null,
   "id": "0ca4c70e-340f-4f66-ae8d-05cc010503ad",
   "metadata": {},
   "outputs": [],
   "source": [
    "# Using a pandas DataFrame\n",
    "road_type = [\"Rural\", \"Secondary\", \"Primary\", \"Highway\"]\n",
    "road_num = [1, 2, 3, 4] \n",
    "road_name = [\"Largo Road\", \"Lamond Drive\", \"South Castle\", \"A9\"]\n",
    "course_dict = {\"Type\": road_type, \"Classification\": road_num, \"Name\": road_name}\n",
    "course_df = pd.DataFrame(course_dict)\n",
    "print (course_df)"
   ]
  },
  {
   "cell_type": "markdown",
   "id": "9ef854c7-a3e2-440b-8390-570a2432216f",
   "metadata": {},
   "source": [
    "## Using Markdown Syntax"
   ]
  },
  {
   "cell_type": "markdown",
   "id": "af215d60-18fb-45f9-bba3-239719139b3b",
   "metadata": {},
   "source": [
    "|[Number](#number)|[Road Type](#RoadType)|[Road Name](#RoadName)|\n",
    "|:-:|:-:|:-:|\n",
    "|1| Rural | Largo Road| \n",
    "|2| Secondary | Lamond Drive| \n",
    "|3| Primary|South Castle| \n",
    "|4| Tertiary | A9| "
   ]
  },
  {
   "cell_type": "markdown",
   "id": "01df08d4-ef70-4b32-aa07-36a1978994b1",
   "metadata": {},
   "source": [
    "# Exercise 2:  Working with Variables\n",
    "\n",
    "* Declare two variables, num1 and num2, with values 5 and 8 respectively\n",
    "* Sum these variables and print the results \n",
    "* Swap the values of num1 and num2.\n"
   ]
  },
  {
   "cell_type": "code",
   "execution_count": null,
   "id": "4ca2f64a-2174-4c76-97fd-3b4cc1e347cd",
   "metadata": {},
   "outputs": [],
   "source": [
    "num1 = 5\n",
    "num2 = 8\n",
    "\n",
    "# Sum the previous variables and print the result. Recall how we can use the f marker to style the outcome\n",
    "sum_result = num1 + num2\n",
    "print(f\"Sum: {sum_result}\")\n",
    "\n",
    "# Swap the values of num1 and num2. Recall how variables can be modified \n",
    "num1, num2 = num2, num1\n",
    "print(f\"Swapped values: num1={num1}, num2={num2}\")"
   ]
  },
  {
   "cell_type": "markdown",
   "id": "ac1dedd1-f71b-482f-9244-447d01070c38",
   "metadata": {},
   "source": [
    "# Challenge 2:\n",
    "\n",
    "In the following cell, create the code to calculate the average of three numbers and print the result. There is no need for functions. Comment your code and the process.\n"
   ]
  },
  {
   "cell_type": "code",
   "execution_count": null,
   "id": "89a240c1-dc96-47f8-add8-0d9754463507",
   "metadata": {},
   "outputs": [],
   "source": [
    "# Defining the numbers as variables\n",
    "num1 = 7 \n",
    "num2 = 4\n",
    "num3 = 17.5 \n",
    "#Defining a variable for the average\n",
    "avg = (num1+num2+num3)/3 \n",
    "print(f\"The average of 7, 4, and 17.5 is {avg}\")"
   ]
  },
  {
   "cell_type": "markdown",
   "id": "65c5dd43-be0a-4d74-8759-93c8a9ce6a96",
   "metadata": {},
   "source": [
    "# Exercise 3: Logical Operator\n",
    "\n",
    "Logical operators are used to combine conditional statements:\n",
    "\n",
    "* Declare two variables, x and y, with values 10 ad 20\n",
    "* Check if x is greater than 5 **and** y is lesshan 30\n",
    "* Check if either x is less than 5 **or** y is greater than 30."
   ]
  },
  {
   "cell_type": "code",
   "execution_count": null,
   "id": "36cf4ad8-fcb6-40ac-8738-3d7629784f1a",
   "metadata": {},
   "outputs": [],
   "source": [
    "x = 10\n",
    "y = 21\n",
    "\n",
    "# Check if x is greater than 5 and y is less than 30.\n",
    "if x > 5 and y < 30:\n",
    "    print(\"Both conditions are True.\")"
   ]
  },
  {
   "cell_type": "code",
   "execution_count": null,
   "id": "60de975c-1a06-407d-92d3-e12865ae5a34",
   "metadata": {},
   "outputs": [],
   "source": [
    "# Check if either x is less than 5 or y is greater than 30.\n",
    "if x < 5 or y > 30:\n",
    "    print(\"At least one condition is True\")"
   ]
  },
  {
   "cell_type": "markdown",
   "id": "e0ad167f-3dc8-4222-8ab1-c19605ad477e",
   "metadata": {},
   "source": [
    "# Challenge 3:\n",
    "\n",
    "Write a condition to check if a number is even."
   ]
  },
  {
   "cell_type": "code",
   "execution_count": null,
   "id": "691f21d4",
   "metadata": {},
   "outputs": [],
   "source": [
    "\n",
    "k = 5 \n",
    "#You can use the % to ask how many times a number is divisible by another number.\n",
    "if k%2 == 0: \n",
    "    print(f\" {k} is an even number.\")\n",
    "else: \n",
    "    print(f\"{k} is not an even number.\") "
   ]
  },
  {
   "cell_type": "markdown",
   "id": "4d73e738",
   "metadata": {},
   "source": [
    "# Exercise 4: Loops\n",
    "\n",
    "Loops are used to repeat a block of code.\n",
    "\n",
    "For and While Loops:\n",
    "\n",
    "* Use a for loop to print numbers from 1 to 5.\n",
    "* Use a while loop to print even numbers from 2 to 8.\n",
    "* Calculate the sum of numbers from 1 to 10 using a loop."
   ]
  },
  {
   "cell_type": "code",
   "execution_count": null,
   "id": "f41b80fc",
   "metadata": {},
   "outputs": [],
   "source": [
    "# Using a for loop to print numbers from 1 to 5.\n",
    "for i in range(1, 6):\n",
    "    print(f\"The initial loop included: {i}\")\n",
    "\n",
    "# Using now a while loop to print even numbers from 2 to 8.\n",
    "num = 2\n",
    "while num <= 8:\n",
    "    print(f\"The second loop included: {num}\")\n",
    "    num += 2\n",
    "\n",
    "# Whait if you need to calculate the sum of numbers from 1 to 10 using a loop.\n",
    "sum_numbers = 0\n",
    "for j in range(1, 11):\n",
    "    sum_numbers += j\n",
    "    print(f\"The last loop included: {sum_numbers}\")"
   ]
  },
  {
   "cell_type": "markdown",
   "id": "26c526d3",
   "metadata": {},
   "source": [
    "# Challenge 4:\n",
    "\n",
    "Write the python code  to find the factorial of a number using a loop. Thefactorial of a number (integer positive) is the sum of multiplication of all the integers smaller than that positive integer. For example, factorial of **5** is:\n",
    "\n",
    "5 * 4 * 3 * 2 * 1 which equals to 120. \n",
    "\n",
    "How you can do that in a python script?, please try your best without using google."
   ]
  },
  {
   "cell_type": "code",
   "execution_count": null,
   "id": "a3962029",
   "metadata": {},
   "outputs": [],
   "source": [
    "sum = 1 \n",
    "#Sum needs to be one to ensure that the factorial starts from 2. \n",
    "for c in range(2, 12+1): \n",
    "    sum *= c \n",
    "print(sum)"
   ]
  },
  {
   "cell_type": "markdown",
   "id": "55bb9c04",
   "metadata": {},
   "source": [
    "# Exercise 5: If-else Statements\n",
    "\n",
    "* Declare a variable age and check **if** it's greater than 18.\n",
    "* Use **elif** to check if age is between 13 and 18.\n",
    "* **If** neither condition is met, print \"Age is below 13\".\n",
    "* Could you implement a simple **rock-paper-scissors** game using if-else statements?"
   ]
  },
  {
   "cell_type": "code",
   "execution_count": null,
   "id": "c23a4118",
   "metadata": {},
   "outputs": [],
   "source": [
    "age = int(input(\"Enter the age\"))\n",
    "# Check if the variable age is greater than 18.\n",
    "if age >18:\n",
    "    print(\"You are an adult.\")\n",
    "elif 13 <= age <= 18:\n",
    "    print(\"You are a teenager.\")\n",
    "# If neither condition is met, print \"Age is below 13.\"\n",
    "else:\n",
    "    print(\"Age is below 13.\")\n"
   ]
  },
  {
   "cell_type": "code",
   "execution_count": null,
   "id": "1fd93790-5e62-48fc-99f4-24de407e15ef",
   "metadata": {},
   "outputs": [],
   "source": [
    "import random\n",
    "player_choice = input(\"Enter your choice (rock, paper, or scissors): \")\n",
    "choices = [\"rock\", \"paper\", \"scissors\"]\n",
    "computer_choice = random.choice(choices)\n",
    "print(f\"Your choice: {player_choice}\")\n",
    "print(f\"Computer's choice: {computer_choice}\")\n",
    "\n",
    "if player_choice == computer_choice:\n",
    "    print(\"It's a tie!\")\n",
    "#There was an indentation issue here - the if, elif, and else need to be aligned\n",
    "elif (\n",
    "        (player_choice == \"rock\" and computer_choice == \"scissors\")\n",
    "        or (player_choice == \"paper\" and computer_choice == \"rock\")\n",
    "        or (player_choice == \"scissors\" and computer_choice == \"paper\")\n",
    "    ):\n",
    "    print(\"You win!\")\n",
    "else:\n",
    "    print(\"Computer wins!\")"
   ]
  },
  {
   "cell_type": "markdown",
   "id": "e496de32",
   "metadata": {},
   "source": [
    "# Challenge 5:\n",
    "\n",
    "Help me to write the python code, I can use to provide the grades based on the marks according to the following table:\n",
    "\n",
    "| Mark   | Grade |\n",
    "|--------|-------|\n",
    "| 81-100 | 20    |\n",
    "| 61-80  | 15    |\n",
    "| 41-60  | 10    |\n",
    "| 20-40  | 5     |\n"
   ]
  },
  {
   "cell_type": "code",
   "execution_count": null,
   "id": "d3a89aa0",
   "metadata": {},
   "outputs": [],
   "source": [
    "mark = int(input(\"Enter the mark:\"))\n",
    "if mark >= 81:\n",
    "    print (\"The grade is 20.\") \n",
    "elif 61<= mark <= 81:\n",
    "    print(\"The grade is 15.\") \n",
    "elif 41 <= mark <= 60: \n",
    "    print(\"The grade is 10.\") \n",
    "else:\n",
    "    print(\"The grade is 5.\")"
   ]
  },
  {
   "cell_type": "markdown",
   "id": "1877f08b",
   "metadata": {},
   "source": [
    "# Exercise 6: Creating Functions\n",
    "\n",
    "Functions help modularize code by grouping related actions. A function is a block of organized, reusable code that can make your programs more effective, easier to read, and simple to manage. You can think functions as little self-contained programs that can perform a specific task that you can use repeatedly in your code. One of the basic principles in good programming is “do not to repeat yourself”. In other words, you should avoid having duplicate lines of code in your scripts. Functions are a good way to avoid such situations and they can save you a lot of time and effort as you don’t need to tell the computer repeatedly what to do every time it does a common task, such as converting temperatures from Fahrenheit to Celsius. \n",
    "\n",
    "\n",
    "* Define a function square that squares a given number.\n",
    "* Use the function to calculate the square of 7.\n",
    "* Write a function is_prime to check if a number is prime.\n",
    "* Finish the code!"
   ]
  },
  {
   "cell_type": "code",
   "execution_count": null,
   "id": "9dae8d60",
   "metadata": {},
   "outputs": [],
   "source": [
    "# Define a function square that squares a given number.\n",
    "def square(number):\n",
    "    return number ** 2\n",
    "\n",
    "# Using the function!\n",
    "\n",
    "result = square(7)\n",
    "print(f\"Square of 7: {result}\")\n",
    "\n",
    "# Lets create another function is_prime to check if a number is prime.\n",
    "def is_prime(number):\n",
    "    if number < 2:\n",
    "        return False\n",
    "    for i in range(2, int(number ** 0.5) + 1):\n",
    "        if number % i == 0:\n",
    "            return False\n",
    "    return True\n",
    "\n",
    "# Finish the code here calling the function and adding the input to let the user provide the number.\n",
    "number = int(input(\"What number would you like to enter?\"))\n",
    "if is_prime(number):\n",
    "    print (f\"{number} is a prime number.\")\n",
    "else: \n",
    "    print (f\"{number} is not a prime number.\")"
   ]
  },
  {
   "cell_type": "markdown",
   "id": "01fc540b",
   "metadata": {},
   "source": [
    "# Challenge 6:\n",
    "\n",
    "* Write and use a function to convert Fahrenheit to Celsius. Use the input parameter to let the user enter a number in Fahrenheit and then get the correspondant value in Celsius\n",
    "* Go to https://www.w3schools.com/python/exercise.asp?filename=exercise_functions1 and complete the 6 excersices. Functions are a very important part of Python so we will use extra time to practice that.\n"
   ]
  },
  {
   "cell_type": "code",
   "execution_count": null,
   "id": "93f63b12",
   "metadata": {},
   "outputs": [],
   "source": [
    "tempf = int(input(\"What is the tempurature in Fahrenheit?\"))\n",
    "\n",
    "#The formula for calculating F to C is C = 5/9(F-32) \n",
    "#Below, I'm defining the function as conversion, then adding in the variable specified above\n",
    "def conversion(tempf): \n",
    "    return (5/9)*(tempf-32)\n",
    "tempc = conversion(tempf)\n",
    "#Above, I'm making a new variable that is the result of the function, ie. Celsius\n",
    "print(f\"{tempf} degrees Fahrenheit is equal to {tempc} degrees Celsius.\")\n"
   ]
  },
  {
   "cell_type": "markdown",
   "id": "fcb5162a",
   "metadata": {},
   "source": [
    "# Exercise 7 Numpy:\n",
    "\n",
    "NumPy is a library for numerical operations in Python. NumPy is a Python library used for working with arrays. It also has functions for working in domain of linear algebra, fourier transform, and matrices. NumPy was created in 2005 by Travis Oliphant. It is an open source project and you can use it freely.\n",
    "\n",
    "NumPy stands for Numerical Python.\n",
    " \n",
    "* Import NumPy and create a 1D array with values 1 to 5. \n",
    "* Create a 2D array with random integers. \n",
    "* Perform element-wise multiplication of two arrays. "
   ]
  },
  {
   "cell_type": "code",
   "execution_count": null,
   "id": "2c6ef804",
   "metadata": {},
   "outputs": [],
   "source": [
    "import numpy as np\n",
    "\n",
    "arr = np.array([1, 2, 3, 4, 5])\n",
    "\n",
    "print(arr)"
   ]
  },
  {
   "cell_type": "code",
   "execution_count": null,
   "id": "3eddfb34",
   "metadata": {},
   "outputs": [],
   "source": [
    "import numpy as np\n",
    "\n",
    "arr = np.array([[1, 2, 3], [4, 5, 6]])\n",
    "\n",
    "print(arr)\n",
    "\n",
    "#Or what if we can use the random function:\n",
    "\n",
    "array_2d = np.random.randint(0, 10, size=(3, 3))\n",
    "print(array_2d)"
   ]
  },
  {
   "cell_type": "code",
   "execution_count": null,
   "id": "97fa0f40",
   "metadata": {},
   "outputs": [],
   "source": [
    "import numpy as np\n",
    "\n",
    "arr1 = np.array([1, 2, 3, 4])\n",
    "arr2 = np.array([5, 6, 7, 8])\n",
    "\n",
    "x = np.prod([arr1, arr2])\n",
    "\n",
    "print(x)\n"
   ]
  },
  {
   "cell_type": "markdown",
   "id": "87c06759",
   "metadata": {},
   "source": [
    "# Challenge 7:\n",
    "\n",
    "Calculate the mean and standard deviation of elements in a NumPy array. The outcome should have something like ``print(f\"Mean: {mean_value}, Standard Deviation: {std_deviation}\")``"
   ]
  },
  {
   "cell_type": "code",
   "execution_count": null,
   "id": "c8d9760f",
   "metadata": {},
   "outputs": [],
   "source": [
    "# First, I'm going to create a small random NumPy array using the random.randint code\n",
    "\n",
    "arr1 = np.random.randint(0, 20, size=(4,4))\n",
    "print (arr1)\n",
    "#Now, I'm going to create a mean value variable and use NumPy's mean function to add up all the values, \n",
    "#then divide them by the number of values in arr1\n",
    "mean_value = np.mean(arr1)\n",
    "\n",
    "#Here, I'm going to use the NumPy standard deviation function\n",
    "std_deviation = np.std(arr1)\n",
    "\n",
    "print(f\"Mean: {mean_value}, Standard Deviation: {std_deviation}\")"
   ]
  },
  {
   "cell_type": "markdown",
   "id": "12187fb8",
   "metadata": {},
   "source": [
    "# Exercise 8: Pandas DataFrame\n",
    "\n",
    "Pandas is a powerful data manipulation library.\n",
    "\n",
    "* Create a DataFrame with a dictionary of student names and their marks.\n",
    "* Add a new column for the grade based on the mark.\n",
    "* Filter the DataFrame to show only students with scores above 80.\n",
    "* Read a CSV file into a DataFrame and perform basic data exploration."
   ]
  },
  {
   "cell_type": "code",
   "execution_count": null,
   "id": "bd656654-eae2-4869-8cfe-3b866ca09594",
   "metadata": {},
   "outputs": [],
   "source": [
    "import pandas as pd\n",
    "\n",
    "# Create a DataFrame with a dictionary of student names and their scores.\n",
    "data = {\"Student\": [\"Alice\", \"Bob\", \"Charlie\"], \"Mark\": [85, 92, 78]} # Do you recall what a dictionary is???\n",
    "df = pd.DataFrame(data)\n",
    "print (df)\n",
    "\n",
    "# Add a new column for the grade based on the score using a loop.\n",
    "grades = []\n",
    "for score in df[\"Mark\"]:\n",
    "    if score >= 90:\n",
    "        grades.append(\"A\")\n",
    "    elif score >= 80:\n",
    "        grades.append(\"B\")\n",
    "    else:\n",
    "        grades.append(\"C\")\n",
    "\n",
    "df[\"Grade\"] = grades\n",
    "print (df)\n",
    "\n",
    "# What if I can tell you there is a way you can avoid this long for loop, by using a function call lambda to run over each row in your dataframe., uncomment the following line and try that out.\n",
    "# compare the results, and make sure you understand what the code is doing.\n",
    "df[\"Grade\"] = df[\"Mark\"].apply(lambda x: \"A\" if x >= 90 else \"B\" if x >= 80 else \"C\")\n",
    "print(df)\n",
    "\n",
    "# Filter the DataFrame to show only students with scores above 80.\n",
    "filtered_df = df[df[\"Mark\"] > 80]\n",
    "print (filtered_df)"
   ]
  },
  {
   "cell_type": "code",
   "execution_count": null,
   "id": "afbab698-48fc-4a81-8e07-e8cde5d957a8",
   "metadata": {},
   "outputs": [],
   "source": [
    "# Read a CSV file into a DataFrame and perform basic data exploration.\n",
    "# There is a world_cities.csv in the Moodle folder, make sure you add that in the folder where you have this notebook/\n",
    "\n",
    "csv_df = pd.read_csv('world_cities.csv')\n",
    "print(csv_df.head())"
   ]
  },
  {
   "cell_type": "markdown",
   "id": "6510f957",
   "metadata": {},
   "source": [
    "# Challenge 8:\n",
    "\n",
    "You have the following dataframes 'sales_data' and 'movie_ratings'\n"
   ]
  },
  {
   "cell_type": "code",
   "execution_count": null,
   "id": "cf46ad3e",
   "metadata": {},
   "outputs": [],
   "source": [
    "import pandas as pd\n",
    "\n",
    "sales_data_dict = {\n",
    "    'Date': ['2022-01-01', '2022-01-02', '2022-01-03', '2022-01-04'],\n",
    "    'Region': ['North', 'South', 'East', 'West'],\n",
    "    'Product': ['A', 'B', 'A', 'C'],\n",
    "    'Quantity': [15, 8, 12, 10],\n",
    "    'Revenue': [1500, 1200, 1800, 900]\n",
    "}\n",
    "\n",
    "sales_data = pd.DataFrame(sales_data_dict)\n",
    "\n",
    "\n",
    "movie_ratings_dict = {\n",
    "    'Title': ['Movie1', 'Movie2', 'Movie3', 'Movie4'],\n",
    "    'Genre': ['Action', 'Drama', 'Comedy', 'Thriller'],\n",
    "    'Year': [2015, 2010, 2018, 2011],\n",
    "    'Rating': [8.5, 7.8, 9.2, 8.0]\n",
    "}\n",
    "\n",
    "movie_ratings = pd.DataFrame(movie_ratings_dict)\n",
    "\n",
    "print(sales_data)\n",
    "print(movie_ratings)\n"
   ]
  },
  {
   "cell_type": "markdown",
   "id": "b40eb74d",
   "metadata": {},
   "source": [
    "* Display the first 5 rows of the DataFrame 'sales_data'\n",
    "* Use `loc` to filter and display rows where the \"Quantity\" is greater than 10 and the \"Region\" is \"North\".\n",
    "* Use `iloc` to display the values in the first row and the first three columns.\n",
    "* Calculate the total sales for each region and display the result.\n",
    "\n",
    "* Display the last 3 rows of the DataFrame 'movie_ratings'.\n",
    "* Calculate and display the average rating for each genre."
   ]
  },
  {
   "cell_type": "markdown",
   "id": "1f79532b-84e5-4ff5-af81-cd4e1c7fefaf",
   "metadata": {},
   "source": [
    "### Display the first 5 rows of the DataFrame 'sales_data'"
   ]
  },
  {
   "cell_type": "code",
   "execution_count": null,
   "id": "8bef4617",
   "metadata": {},
   "outputs": [],
   "source": [
    "#Displaying the first five rows using .head\n",
    "sales_data.head(5)"
   ]
  },
  {
   "cell_type": "markdown",
   "id": "8193c544-900d-448a-806f-7a2e77c8e0fd",
   "metadata": {},
   "source": [
    "### Use loc to filter and display rows where the \"Quantity\" is greater than 10 and the \"Region\" is \"North\"."
   ]
  },
  {
   "cell_type": "code",
   "execution_count": null,
   "id": "29040b14-21e6-4f8c-8ab8-9f3a30e66146",
   "metadata": {},
   "outputs": [],
   "source": [
    "#Using 'loc' to filter and display rows. To filter by a string (\"North\"), I can use a double == \n",
    "filtered_sales_data = sales_data.loc[(sales_data[\"Quantity\"] > 10) & (sales_data[\"Region\"] == \"North\")]\n",
    "print (filtered_sales_data) "
   ]
  },
  {
   "cell_type": "markdown",
   "id": "6a021227-e61b-4f53-907a-3983b0df7d87",
   "metadata": {},
   "source": [
    "### Use iloc to display the values in the first row and the first three columns."
   ]
  },
  {
   "cell_type": "code",
   "execution_count": null,
   "id": "ee42d16b-0fc9-4e4a-9ef3-93bced8d2ee1",
   "metadata": {},
   "outputs": [],
   "source": [
    "#Using 'iloc' to display the values in the first row and first three columns\n",
    "# The colon can be used to specifiy all the other rows before 3 to avoid having to call each one individually\n",
    "first_values = sales_data.iloc[0, :3]\n",
    "print (first_values)"
   ]
  },
  {
   "cell_type": "markdown",
   "id": "626478c1-1fd0-42a8-918d-2a4d6d94209c",
   "metadata": {},
   "source": [
    "### Calculate the total sales for each region and display the result."
   ]
  },
  {
   "cell_type": "code",
   "execution_count": null,
   "id": "f9e45aeb-244b-4529-8a8e-4d59d0884cf9",
   "metadata": {},
   "outputs": [],
   "source": [
    "# Calculating the total sales for each region\n",
    "# First, I'm going to filter the sales data set by each region using loc. \n",
    "north_sales = sales_data.loc[sales_data[\"Region\"] == \"North\"]\n",
    "south_sales = sales_data.loc[sales_data[\"Region\"] == \"South\"]\n",
    "east_sales = sales_data.loc[sales_data[\"Region\"] == \"East\"]\n",
    "west_sales = sales_data.loc[sales_data[\"Region\"] == \"West\"]\n",
    "# Next, I'm going to use the sum () tool to find the sum of the revenue column for \n",
    "# each region \n",
    "north_revenue = north_sales[\"Revenue\"].sum()\n",
    "south_revenue = south_sales[\"Revenue\"].sum()\n",
    "east_revenue = east_sales[\"Revenue\"].sum()\n",
    "west_revenue = west_sales[\"Revenue\"].sum()\n",
    "\n",
    "print (f\"North: {north_revenue}, South: {south_revenue}, East: {east_revenue}, West: {west_revenue}\")"
   ]
  },
  {
   "cell_type": "markdown",
   "id": "bcd3b4d1-f1cb-4cea-8457-068f02268c78",
   "metadata": {},
   "source": [
    "### Display the last 3 rows of the DataFrame 'movie_ratings'."
   ]
  },
  {
   "cell_type": "code",
   "execution_count": null,
   "id": "43f788cb-4d5f-4db3-82af-08b3117a161b",
   "metadata": {},
   "outputs": [],
   "source": [
    "# I can use 'tail' to do so. \n",
    "movie_ratings.tail(3)"
   ]
  },
  {
   "cell_type": "markdown",
   "id": "9c14c4bf-67d3-4793-b60f-b7eb1057d505",
   "metadata": {},
   "source": [
    "### Calculate and display the average rating for each genre."
   ]
  },
  {
   "cell_type": "code",
   "execution_count": null,
   "id": "bcf7ac1e-43e2-4a3e-98ef-b99c90438eff",
   "metadata": {},
   "outputs": [],
   "source": [
    "# I could do this in the same way as above with the revenue, by creating separate subsections using loc. However, that was tedious. I went into the pandas documentation \n",
    "# to find the .groupby tool, which will allow me to group genre and ratings, and then calculate the mean with .mean()\n",
    "avg_ratings_by_genre = movie_ratings.groupby(\"Genre\")[\"Rating\"].mean()\n",
    "print (avg_ratings_by_genre)"
   ]
  },
  {
   "cell_type": "markdown",
   "id": "1492e001",
   "metadata": {},
   "source": [
    "# Exercise 9: GeoPandas and Rasterio:\n",
    "\n",
    "GeoPandas deals with geospatial data, and Rasterio is used for working with raster data.\n",
    "\n",
    "* Import GeoPandas and Rasterio libraries.\n",
    "* Read a shapefile into a GeoDataFrame.\n",
    "* Open and display a raster image using Rasterio.\n",
    "* Let's recall how to perform a spatial join between a GeoDataFrame and a raster dataset.\n",
    "\n"
   ]
  },
  {
   "cell_type": "code",
   "execution_count": null,
   "id": "263e879c",
   "metadata": {
    "scrolled": true
   },
   "outputs": [],
   "source": [
    "import geopandas as gpd\n",
    "import rasterio\n",
    "from rasterio.plot import show\n",
    "\n",
    "shapefile_path = 'Road_Safety_Accidents.shp'\n",
    "gdf = gpd.read_file(shapefile_path)\n",
    "gdf.explore()"
   ]
  },
  {
   "cell_type": "code",
   "execution_count": null,
   "id": "0d56c332",
   "metadata": {
    "scrolled": true
   },
   "outputs": [],
   "source": [
    "raster_path = 'elev.tif'\n",
    "raster = rasterio.open(raster_path)\n",
    "show(raster)"
   ]
  },
  {
   "cell_type": "markdown",
   "id": "6f544939",
   "metadata": {},
   "source": [
    "# Challenge 9:\n",
    "\n",
    "* Recreate the explore map, but now using one of the columns to create a choropleth map Check this link to get more information https://geopandas.org/en/stable/docs/reference/api/geopandas.GeoDataFrame.explore.html\n",
    "\n",
    "* Get the histogram of the raster you plot in the exercise. Here you can get an example of how to do it: https://rasterio.readthedocs.io/en/latest/topics/plotting.html\n"
   ]
  },
  {
   "cell_type": "code",
   "execution_count": null,
   "id": "e1abe695",
   "metadata": {
    "scrolled": true
   },
   "outputs": [],
   "source": [
    "# To get a sense of the data, I need to use .head \n",
    "gdf.head(1)"
   ]
  },
  {
   "cell_type": "markdown",
   "id": "501053d1-ec60-4402-9f77-0c8c712e1817",
   "metadata": {},
   "source": [
    "## Chloropleth Map"
   ]
  },
  {
   "cell_type": "code",
   "execution_count": null,
   "id": "96db9bbb-10b8-4979-b20a-5c14952ad26a",
   "metadata": {
    "scrolled": true
   },
   "outputs": [],
   "source": [
    "# The code below will assign the accident seriousness column a color.\n",
    "gdf.explore(column='ACCIDENT_S', cmap='RdYlBu')"
   ]
  },
  {
   "cell_type": "markdown",
   "id": "42b71e17-f59f-4c63-a0f9-ae3bce057410",
   "metadata": {},
   "source": [
    "## Histogram"
   ]
  },
  {
   "cell_type": "code",
   "execution_count": null,
   "id": "cc8807f3-23ff-4db0-8b4a-27c3abcf78e3",
   "metadata": {},
   "outputs": [],
   "source": [
    "# In order to plot the histogram, we need show _hist from rasterio.plot\n",
    "from matplotlib import pyplot\n",
    "from rasterio.plot import show_hist\n",
    "# Here, I've added some more information to title the histogram and make it more transparent. \n",
    "show_hist(raster, bins=50, lw=0.0, stacked=False, alpha=0.7, histtype=\"stepfilled\", title=\"Histogram\")"
   ]
  },
  {
   "cell_type": "markdown",
   "id": "aa48cd54",
   "metadata": {
    "jp-MarkdownHeadingCollapsed": true
   },
   "source": [
    "# Challenge 10: Last Mile\n",
    "\n",
    "Now make sure you Jupyter Notebook includes all the outcomes from the Excersices and Challenges, make sure you comment all the code you had to add and make sure you describe what are you doing and make sure you have the correct outcomes. Finally pull all your changes  to your UA repo, in this case all your work is save in the cloud!"
   ]
  }
 ],
 "metadata": {
  "kernelspec": {
   "display_name": "Python 3 (ipykernel)",
   "language": "python",
   "name": "python3"
  },
  "language_info": {
   "codemirror_mode": {
    "name": "ipython",
    "version": 3
   },
   "file_extension": ".py",
   "mimetype": "text/x-python",
   "name": "python",
   "nbconvert_exporter": "python",
   "pygments_lexer": "ipython3",
   "version": "3.10.13"
  }
 },
 "nbformat": 4,
 "nbformat_minor": 5
}
